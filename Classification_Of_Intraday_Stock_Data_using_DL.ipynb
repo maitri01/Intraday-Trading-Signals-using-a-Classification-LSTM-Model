{
  "nbformat": 4,
  "nbformat_minor": 0,
  "metadata": {
    "colab": {
      "provenance": []
    },
    "kernelspec": {
      "name": "python3",
      "display_name": "Python 3"
    },
    "language_info": {
      "name": "python"
    },
    "accelerator": "GPU"
  },
  "cells": [
    {
      "cell_type": "markdown",
      "source": [
        "# DL Project: Intraday Stock Classification using LSTM\n",
        "\n",
        "##Group Memebers:\n",
        "1. Sahil Patki I039\n",
        "2. Hansin Patwa I040\n",
        "3. Maitri Shah I057\n"
      ],
      "metadata": {
        "id": "nfbERa3ZD-Xd"
      }
    },
    {
      "cell_type": "code",
      "source": [
        "!pip install talib-binary\n",
        "import talib as ta"
      ],
      "metadata": {
        "colab": {
          "base_uri": "https://localhost:8080/"
        },
        "id": "0Oy18uMFL72c",
        "outputId": "a3979e3a-4e82-4c3d-f4a6-e1e91b6885b1"
      },
      "execution_count": null,
      "outputs": [
        {
          "output_type": "stream",
          "name": "stdout",
          "text": [
            "Looking in indexes: https://pypi.org/simple, https://us-python.pkg.dev/colab-wheels/public/simple/\n",
            "Collecting talib-binary\n",
            "  Downloading talib_binary-0.4.19-cp37-cp37m-manylinux1_x86_64.whl (2.4 MB)\n",
            "\u001b[K     |████████████████████████████████| 2.4 MB 32.1 MB/s \n",
            "\u001b[?25hRequirement already satisfied: numpy in /usr/local/lib/python3.7/dist-packages (from talib-binary) (1.21.6)\n",
            "Installing collected packages: talib-binary\n",
            "Successfully installed talib-binary-0.4.19\n"
          ]
        }
      ]
    },
    {
      "cell_type": "code",
      "execution_count": null,
      "metadata": {
        "id": "ByALRXBlHN1G"
      },
      "outputs": [],
      "source": [
        "from pandas_datareader import data\n",
        "import matplotlib.pyplot as plt\n",
        "import pandas as pd"
      ]
    },
    {
      "cell_type": "code",
      "source": [
        "!pip install yfinance\n",
        "!pip install yahoofinancials"
      ],
      "metadata": {
        "colab": {
          "base_uri": "https://localhost:8080/",
          "height": 728
        },
        "id": "aQFg0Z1QIOt1",
        "outputId": "8ed4a716-2b57-4980-83e8-ad329f510f8f"
      },
      "execution_count": null,
      "outputs": [
        {
          "output_type": "stream",
          "name": "stdout",
          "text": [
            "Looking in indexes: https://pypi.org/simple, https://us-python.pkg.dev/colab-wheels/public/simple/\n",
            "Collecting yfinance\n",
            "  Downloading yfinance-0.1.84-py2.py3-none-any.whl (29 kB)\n",
            "Collecting requests>=2.26\n",
            "  Downloading requests-2.28.1-py3-none-any.whl (62 kB)\n",
            "\u001b[K     |████████████████████████████████| 62 kB 1.5 MB/s \n",
            "\u001b[?25hRequirement already satisfied: lxml>=4.5.1 in /usr/local/lib/python3.7/dist-packages (from yfinance) (4.9.1)\n",
            "Requirement already satisfied: pandas>=0.24.0 in /usr/local/lib/python3.7/dist-packages (from yfinance) (1.3.5)\n",
            "Requirement already satisfied: appdirs>=1.4.4 in /usr/local/lib/python3.7/dist-packages (from yfinance) (1.4.4)\n",
            "Requirement already satisfied: multitasking>=0.0.7 in /usr/local/lib/python3.7/dist-packages (from yfinance) (0.0.11)\n",
            "Requirement already satisfied: numpy>=1.15 in /usr/local/lib/python3.7/dist-packages (from yfinance) (1.21.6)\n",
            "Requirement already satisfied: python-dateutil>=2.7.3 in /usr/local/lib/python3.7/dist-packages (from pandas>=0.24.0->yfinance) (2.8.2)\n",
            "Requirement already satisfied: pytz>=2017.3 in /usr/local/lib/python3.7/dist-packages (from pandas>=0.24.0->yfinance) (2022.5)\n",
            "Requirement already satisfied: six>=1.5 in /usr/local/lib/python3.7/dist-packages (from python-dateutil>=2.7.3->pandas>=0.24.0->yfinance) (1.15.0)\n",
            "Requirement already satisfied: urllib3<1.27,>=1.21.1 in /usr/local/lib/python3.7/dist-packages (from requests>=2.26->yfinance) (1.24.3)\n",
            "Requirement already satisfied: charset-normalizer<3,>=2 in /usr/local/lib/python3.7/dist-packages (from requests>=2.26->yfinance) (2.1.1)\n",
            "Requirement already satisfied: idna<4,>=2.5 in /usr/local/lib/python3.7/dist-packages (from requests>=2.26->yfinance) (2.10)\n",
            "Requirement already satisfied: certifi>=2017.4.17 in /usr/local/lib/python3.7/dist-packages (from requests>=2.26->yfinance) (2022.9.24)\n",
            "Installing collected packages: requests, yfinance\n",
            "  Attempting uninstall: requests\n",
            "    Found existing installation: requests 2.23.0\n",
            "    Uninstalling requests-2.23.0:\n",
            "      Successfully uninstalled requests-2.23.0\n",
            "Successfully installed requests-2.28.1 yfinance-0.1.84\n"
          ]
        },
        {
          "output_type": "display_data",
          "data": {
            "application/vnd.colab-display-data+json": {
              "pip_warning": {
                "packages": [
                  "requests"
                ]
              }
            }
          },
          "metadata": {}
        },
        {
          "output_type": "stream",
          "name": "stdout",
          "text": [
            "Looking in indexes: https://pypi.org/simple, https://us-python.pkg.dev/colab-wheels/public/simple/\n",
            "Collecting yahoofinancials\n",
            "  Downloading yahoofinancials-1.6.tar.gz (27 kB)\n",
            "Requirement already satisfied: beautifulsoup4 in /usr/local/lib/python3.7/dist-packages (from yahoofinancials) (4.6.3)\n",
            "Requirement already satisfied: pytz in /usr/local/lib/python3.7/dist-packages (from yahoofinancials) (2022.5)\n",
            "Building wheels for collected packages: yahoofinancials\n",
            "  Building wheel for yahoofinancials (setup.py) ... \u001b[?25l\u001b[?25hdone\n",
            "  Created wheel for yahoofinancials: filename=yahoofinancials-1.6-py3-none-any.whl size=15192 sha256=94d460c377d12ea10c55fda747c27a2f58a5235cb74c5449ce508b7714cb59aa\n",
            "  Stored in directory: /root/.cache/pip/wheels/4b/63/46/e7110bfee88685fe69e338d1b14d1748921862aa57b6705b60\n",
            "Successfully built yahoofinancials\n",
            "Installing collected packages: yahoofinancials\n",
            "Successfully installed yahoofinancials-1.6\n"
          ]
        }
      ]
    },
    {
      "cell_type": "code",
      "source": [
        "import pandas as pd\n",
        "import yfinance as yf\n",
        "from yahoofinancials import YahooFinancials"
      ],
      "metadata": {
        "id": "61f6LG5YIMtf"
      },
      "execution_count": null,
      "outputs": []
    },
    {
      "cell_type": "code",
      "source": [
        "start_date = '2022-10-01'\n",
        "end_date = '2022-10-07'\n",
        "\n",
        "# Set the ticker\n",
        "ticker = 'AAPL'\n",
        "\n",
        "# Get the data\n",
        "data = yf.download(ticker, start_date, end_date,interval='1m').reset_index()"
      ],
      "metadata": {
        "colab": {
          "base_uri": "https://localhost:8080/"
        },
        "id": "2qTIKN07N2V2",
        "outputId": "b5ddf07d-a613-4b54-9c09-cd127a105b62"
      },
      "execution_count": null,
      "outputs": [
        {
          "output_type": "stream",
          "name": "stdout",
          "text": [
            "\r[*********************100%***********************]  1 of 1 completed\n"
          ]
        }
      ]
    },
    {
      "cell_type": "code",
      "source": [
        "start_date = '2022-10-07'\n",
        "end_date = '2022-10-14'\n",
        "\n",
        "# Set the ticker\n",
        "ticker = 'AAPL'\n",
        "\n",
        "# Get the data\n",
        "data = data.append(yf.download(ticker, start_date, end_date,interval='1m').reset_index(),ignore_index=True)"
      ],
      "metadata": {
        "colab": {
          "base_uri": "https://localhost:8080/"
        },
        "id": "rt6bIiPlNEQW",
        "outputId": "cd33bc95-74c3-41dc-8e14-b22dd5406361"
      },
      "execution_count": null,
      "outputs": [
        {
          "output_type": "stream",
          "name": "stdout",
          "text": [
            "\r[*********************100%***********************]  1 of 1 completed\n"
          ]
        }
      ]
    },
    {
      "cell_type": "code",
      "source": [
        "start_date = '2022-10-15'\n",
        "end_date = '2022-10-22'\n",
        "\n",
        "# Set the ticker\n",
        "ticker = 'AAPL'\n",
        "\n",
        "# Get the data\n",
        "data = data.append(yf.download(ticker, start_date, end_date,interval='1m').reset_index(),ignore_index=True)"
      ],
      "metadata": {
        "colab": {
          "base_uri": "https://localhost:8080/"
        },
        "id": "FtZ98KMVJcq6",
        "outputId": "8b5baee3-1cef-4687-c14a-164406a86199"
      },
      "execution_count": null,
      "outputs": [
        {
          "output_type": "stream",
          "name": "stdout",
          "text": [
            "\r[*********************100%***********************]  1 of 1 completed\n"
          ]
        }
      ]
    },
    {
      "cell_type": "code",
      "source": [
        "data"
      ],
      "metadata": {
        "colab": {
          "base_uri": "https://localhost:8080/",
          "height": 424
        },
        "id": "WY2_jCBhJimt",
        "outputId": "b8004d07-bc1e-42ac-96f0-9581f4bae3a2"
      },
      "execution_count": null,
      "outputs": [
        {
          "output_type": "execute_result",
          "data": {
            "text/plain": [
              "                Datetime        Open        High         Low       Close  \\\n",
              "0    2022-10-03 09:30:00  138.210007  138.649994  137.684998  138.014999   \n",
              "1    2022-10-03 09:31:00  138.059998  138.289993  137.970001  138.160004   \n",
              "2    2022-10-03 09:32:00  138.160004  138.240005  138.020004  138.210007   \n",
              "3    2022-10-03 09:33:00  138.570007  138.690002  138.509995  138.630005   \n",
              "4    2022-10-03 09:34:00  138.621704  139.100006  138.389999  138.800003   \n",
              "...                  ...         ...         ...         ...         ...   \n",
              "5444 2022-10-21 15:55:00  147.520004  147.520004  147.375000  147.414993   \n",
              "5445 2022-10-21 15:56:00  147.419998  147.449997  147.350006  147.414993   \n",
              "5446 2022-10-21 15:57:00  147.414993  147.419998  147.339996  147.380005   \n",
              "5447 2022-10-21 15:58:00  147.384995  147.389999  147.240005  147.380005   \n",
              "5448 2022-10-21 15:59:00  147.389999  147.539993  147.259995  147.270004   \n",
              "\n",
              "       Adj Close   Volume  \n",
              "0     138.014999  4117787  \n",
              "1     138.160004   506705  \n",
              "2     138.210007   409728  \n",
              "3     138.630005  1002021  \n",
              "4     138.800003   994597  \n",
              "...          ...      ...  \n",
              "5444  147.414993   427451  \n",
              "5445  147.414993   340241  \n",
              "5446  147.380005   389550  \n",
              "5447  147.380005   528982  \n",
              "5448  147.270004  1163150  \n",
              "\n",
              "[5449 rows x 7 columns]"
            ],
            "text/html": [
              "\n",
              "  <div id=\"df-715760f1-6db6-4943-a6a4-f2219ecdd5b0\">\n",
              "    <div class=\"colab-df-container\">\n",
              "      <div>\n",
              "<style scoped>\n",
              "    .dataframe tbody tr th:only-of-type {\n",
              "        vertical-align: middle;\n",
              "    }\n",
              "\n",
              "    .dataframe tbody tr th {\n",
              "        vertical-align: top;\n",
              "    }\n",
              "\n",
              "    .dataframe thead th {\n",
              "        text-align: right;\n",
              "    }\n",
              "</style>\n",
              "<table border=\"1\" class=\"dataframe\">\n",
              "  <thead>\n",
              "    <tr style=\"text-align: right;\">\n",
              "      <th></th>\n",
              "      <th>Datetime</th>\n",
              "      <th>Open</th>\n",
              "      <th>High</th>\n",
              "      <th>Low</th>\n",
              "      <th>Close</th>\n",
              "      <th>Adj Close</th>\n",
              "      <th>Volume</th>\n",
              "    </tr>\n",
              "  </thead>\n",
              "  <tbody>\n",
              "    <tr>\n",
              "      <th>0</th>\n",
              "      <td>2022-10-03 09:30:00</td>\n",
              "      <td>138.210007</td>\n",
              "      <td>138.649994</td>\n",
              "      <td>137.684998</td>\n",
              "      <td>138.014999</td>\n",
              "      <td>138.014999</td>\n",
              "      <td>4117787</td>\n",
              "    </tr>\n",
              "    <tr>\n",
              "      <th>1</th>\n",
              "      <td>2022-10-03 09:31:00</td>\n",
              "      <td>138.059998</td>\n",
              "      <td>138.289993</td>\n",
              "      <td>137.970001</td>\n",
              "      <td>138.160004</td>\n",
              "      <td>138.160004</td>\n",
              "      <td>506705</td>\n",
              "    </tr>\n",
              "    <tr>\n",
              "      <th>2</th>\n",
              "      <td>2022-10-03 09:32:00</td>\n",
              "      <td>138.160004</td>\n",
              "      <td>138.240005</td>\n",
              "      <td>138.020004</td>\n",
              "      <td>138.210007</td>\n",
              "      <td>138.210007</td>\n",
              "      <td>409728</td>\n",
              "    </tr>\n",
              "    <tr>\n",
              "      <th>3</th>\n",
              "      <td>2022-10-03 09:33:00</td>\n",
              "      <td>138.570007</td>\n",
              "      <td>138.690002</td>\n",
              "      <td>138.509995</td>\n",
              "      <td>138.630005</td>\n",
              "      <td>138.630005</td>\n",
              "      <td>1002021</td>\n",
              "    </tr>\n",
              "    <tr>\n",
              "      <th>4</th>\n",
              "      <td>2022-10-03 09:34:00</td>\n",
              "      <td>138.621704</td>\n",
              "      <td>139.100006</td>\n",
              "      <td>138.389999</td>\n",
              "      <td>138.800003</td>\n",
              "      <td>138.800003</td>\n",
              "      <td>994597</td>\n",
              "    </tr>\n",
              "    <tr>\n",
              "      <th>...</th>\n",
              "      <td>...</td>\n",
              "      <td>...</td>\n",
              "      <td>...</td>\n",
              "      <td>...</td>\n",
              "      <td>...</td>\n",
              "      <td>...</td>\n",
              "      <td>...</td>\n",
              "    </tr>\n",
              "    <tr>\n",
              "      <th>5444</th>\n",
              "      <td>2022-10-21 15:55:00</td>\n",
              "      <td>147.520004</td>\n",
              "      <td>147.520004</td>\n",
              "      <td>147.375000</td>\n",
              "      <td>147.414993</td>\n",
              "      <td>147.414993</td>\n",
              "      <td>427451</td>\n",
              "    </tr>\n",
              "    <tr>\n",
              "      <th>5445</th>\n",
              "      <td>2022-10-21 15:56:00</td>\n",
              "      <td>147.419998</td>\n",
              "      <td>147.449997</td>\n",
              "      <td>147.350006</td>\n",
              "      <td>147.414993</td>\n",
              "      <td>147.414993</td>\n",
              "      <td>340241</td>\n",
              "    </tr>\n",
              "    <tr>\n",
              "      <th>5446</th>\n",
              "      <td>2022-10-21 15:57:00</td>\n",
              "      <td>147.414993</td>\n",
              "      <td>147.419998</td>\n",
              "      <td>147.339996</td>\n",
              "      <td>147.380005</td>\n",
              "      <td>147.380005</td>\n",
              "      <td>389550</td>\n",
              "    </tr>\n",
              "    <tr>\n",
              "      <th>5447</th>\n",
              "      <td>2022-10-21 15:58:00</td>\n",
              "      <td>147.384995</td>\n",
              "      <td>147.389999</td>\n",
              "      <td>147.240005</td>\n",
              "      <td>147.380005</td>\n",
              "      <td>147.380005</td>\n",
              "      <td>528982</td>\n",
              "    </tr>\n",
              "    <tr>\n",
              "      <th>5448</th>\n",
              "      <td>2022-10-21 15:59:00</td>\n",
              "      <td>147.389999</td>\n",
              "      <td>147.539993</td>\n",
              "      <td>147.259995</td>\n",
              "      <td>147.270004</td>\n",
              "      <td>147.270004</td>\n",
              "      <td>1163150</td>\n",
              "    </tr>\n",
              "  </tbody>\n",
              "</table>\n",
              "<p>5449 rows × 7 columns</p>\n",
              "</div>\n",
              "      <button class=\"colab-df-convert\" onclick=\"convertToInteractive('df-715760f1-6db6-4943-a6a4-f2219ecdd5b0')\"\n",
              "              title=\"Convert this dataframe to an interactive table.\"\n",
              "              style=\"display:none;\">\n",
              "        \n",
              "  <svg xmlns=\"http://www.w3.org/2000/svg\" height=\"24px\"viewBox=\"0 0 24 24\"\n",
              "       width=\"24px\">\n",
              "    <path d=\"M0 0h24v24H0V0z\" fill=\"none\"/>\n",
              "    <path d=\"M18.56 5.44l.94 2.06.94-2.06 2.06-.94-2.06-.94-.94-2.06-.94 2.06-2.06.94zm-11 1L8.5 8.5l.94-2.06 2.06-.94-2.06-.94L8.5 2.5l-.94 2.06-2.06.94zm10 10l.94 2.06.94-2.06 2.06-.94-2.06-.94-.94-2.06-.94 2.06-2.06.94z\"/><path d=\"M17.41 7.96l-1.37-1.37c-.4-.4-.92-.59-1.43-.59-.52 0-1.04.2-1.43.59L10.3 9.45l-7.72 7.72c-.78.78-.78 2.05 0 2.83L4 21.41c.39.39.9.59 1.41.59.51 0 1.02-.2 1.41-.59l7.78-7.78 2.81-2.81c.8-.78.8-2.07 0-2.86zM5.41 20L4 18.59l7.72-7.72 1.47 1.35L5.41 20z\"/>\n",
              "  </svg>\n",
              "      </button>\n",
              "      \n",
              "  <style>\n",
              "    .colab-df-container {\n",
              "      display:flex;\n",
              "      flex-wrap:wrap;\n",
              "      gap: 12px;\n",
              "    }\n",
              "\n",
              "    .colab-df-convert {\n",
              "      background-color: #E8F0FE;\n",
              "      border: none;\n",
              "      border-radius: 50%;\n",
              "      cursor: pointer;\n",
              "      display: none;\n",
              "      fill: #1967D2;\n",
              "      height: 32px;\n",
              "      padding: 0 0 0 0;\n",
              "      width: 32px;\n",
              "    }\n",
              "\n",
              "    .colab-df-convert:hover {\n",
              "      background-color: #E2EBFA;\n",
              "      box-shadow: 0px 1px 2px rgba(60, 64, 67, 0.3), 0px 1px 3px 1px rgba(60, 64, 67, 0.15);\n",
              "      fill: #174EA6;\n",
              "    }\n",
              "\n",
              "    [theme=dark] .colab-df-convert {\n",
              "      background-color: #3B4455;\n",
              "      fill: #D2E3FC;\n",
              "    }\n",
              "\n",
              "    [theme=dark] .colab-df-convert:hover {\n",
              "      background-color: #434B5C;\n",
              "      box-shadow: 0px 1px 3px 1px rgba(0, 0, 0, 0.15);\n",
              "      filter: drop-shadow(0px 1px 2px rgba(0, 0, 0, 0.3));\n",
              "      fill: #FFFFFF;\n",
              "    }\n",
              "  </style>\n",
              "\n",
              "      <script>\n",
              "        const buttonEl =\n",
              "          document.querySelector('#df-715760f1-6db6-4943-a6a4-f2219ecdd5b0 button.colab-df-convert');\n",
              "        buttonEl.style.display =\n",
              "          google.colab.kernel.accessAllowed ? 'block' : 'none';\n",
              "\n",
              "        async function convertToInteractive(key) {\n",
              "          const element = document.querySelector('#df-715760f1-6db6-4943-a6a4-f2219ecdd5b0');\n",
              "          const dataTable =\n",
              "            await google.colab.kernel.invokeFunction('convertToInteractive',\n",
              "                                                     [key], {});\n",
              "          if (!dataTable) return;\n",
              "\n",
              "          const docLinkHtml = 'Like what you see? Visit the ' +\n",
              "            '<a target=\"_blank\" href=https://colab.research.google.com/notebooks/data_table.ipynb>data table notebook</a>'\n",
              "            + ' to learn more about interactive tables.';\n",
              "          element.innerHTML = '';\n",
              "          dataTable['output_type'] = 'display_data';\n",
              "          await google.colab.output.renderOutput(dataTable, element);\n",
              "          const docLink = document.createElement('div');\n",
              "          docLink.innerHTML = docLinkHtml;\n",
              "          element.appendChild(docLink);\n",
              "        }\n",
              "      </script>\n",
              "    </div>\n",
              "  </div>\n",
              "  "
            ]
          },
          "metadata": {},
          "execution_count": 8
        }
      ]
    },
    {
      "cell_type": "code",
      "source": [
        "# Import matplotlib for plotting\n",
        "import matplotlib.pyplot as plt\n",
        "%matplotlib inline\n",
        "\n",
        "# Plot adjusted close price data\n",
        "data['Adj Close'].plot()\n",
        "plt.show()"
      ],
      "metadata": {
        "colab": {
          "base_uri": "https://localhost:8080/",
          "height": 265
        },
        "id": "02TrrfxmJumX",
        "outputId": "e7badc4b-8dab-486e-e4cf-11b41d28fd1e"
      },
      "execution_count": null,
      "outputs": [
        {
          "output_type": "display_data",
          "data": {
            "text/plain": [
              "<Figure size 432x288 with 1 Axes>"
            ],
            "image/png": "[encoded data removed]"
          },
          "metadata": {
            "needs_background": "light"
          }
        }
      ]
    },
    {
      "cell_type": "code",
      "source": [
        "ret=[]\n",
        "n=10\n",
        "for i in range(data.shape[0]):\n",
        "    reto=[]\n",
        "    for j in range(1,n+1):\n",
        "        try:\n",
        "            reto.append((data[\"Close\"][i]-data[\"Close\"][i-j])/data[\"Close\"][i])\n",
        "        except:\n",
        "            reto.append(None)\n",
        "    ret.append(reto)"
      ],
      "metadata": {
        "id": "UwWZq29Ti0rV"
      },
      "execution_count": null,
      "outputs": []
    },
    {
      "cell_type": "code",
      "source": [
        "import numpy as np\n",
        "ret=np.array(ret).reshape(10,data.shape[0])"
      ],
      "metadata": {
        "id": "sE-wQlDnjrRQ"
      },
      "execution_count": null,
      "outputs": []
    },
    {
      "cell_type": "code",
      "source": [
        "for i in range(1,11):\n",
        "    data[\"ret\"+str(i)]=ret[i-1]"
      ],
      "metadata": {
        "id": "jERy209llj1L"
      },
      "execution_count": null,
      "outputs": []
    },
    {
      "cell_type": "code",
      "source": [
        "#Relative Strength Index\n",
        "data[\"RSI\"]=ta.RSI(data[\"Close\"],timeperiod=14)"
      ],
      "metadata": {
        "id": "R2sl7X1slxiT"
      },
      "execution_count": null,
      "outputs": []
    },
    {
      "cell_type": "code",
      "source": [
        "MA5 = ta.SMA(data['Close'], timeperiod=5)\n",
        "MA13 = ta.SMA(data['Close'], timeperiod=13)\n",
        "MA30 = ta.SMA(data['Close'], timeperiod=30)"
      ],
      "metadata": {
        "id": "o2qxGp804II7"
      },
      "execution_count": null,
      "outputs": []
    },
    {
      "cell_type": "code",
      "source": [
        "plt.figure()\n",
        "plt.plot(MA5[50:200],'r')\n",
        "plt.plot(MA13[50:200],'g')\n",
        "plt.plot(MA30[50:200],'b')\n",
        "plt.legend(['MA5', 'MA13', 'MA30'])"
      ],
      "metadata": {
        "colab": {
          "base_uri": "https://localhost:8080/",
          "height": 282
        },
        "id": "XwSfkOAT4QRI",
        "outputId": "86c29b72-3818-4ab8-89e8-d3dff651ba13"
      },
      "execution_count": null,
      "outputs": [
        {
          "output_type": "execute_result",
          "data": {
            "text/plain": [
              "<matplotlib.legend.Legend at 0x7f1f8b1677d0>"
            ]
          },
          "metadata": {},
          "execution_count": 15
        },
        {
          "output_type": "display_data",
          "data": {
            "text/plain": [
              "<Figure size 432x288 with 1 Axes>"
            ],
            "image/png": "[encoded data removed]"
          },
          "metadata": {
            "needs_background": "light"
          }
        }
      ]
    },
    {
      "cell_type": "code",
      "source": [
        "MA12 = ta.SMA(data['Close'], timeperiod=12)\n",
        "MA26 = ta.SMA(data['Close'], timeperiod=26)"
      ],
      "metadata": {
        "id": "aUXb9434w0cP"
      },
      "execution_count": null,
      "outputs": []
    },
    {
      "cell_type": "code",
      "source": [
        "plt.figure()\n",
        "plt.plot(MA12[50:200],'r')\n",
        "plt.plot(MA26[50:200],'b')\n",
        "plt.legend(['MA12', 'MA26'])"
      ],
      "metadata": {
        "colab": {
          "base_uri": "https://localhost:8080/",
          "height": 282
        },
        "id": "F863MHNPxYhU",
        "outputId": "49438c5a-f090-4f68-e889-d2888e26e1d9"
      },
      "execution_count": null,
      "outputs": [
        {
          "output_type": "execute_result",
          "data": {
            "text/plain": [
              "<matplotlib.legend.Legend at 0x7f1f8b0ee610>"
            ]
          },
          "metadata": {},
          "execution_count": 17
        },
        {
          "output_type": "display_data",
          "data": {
            "text/plain": [
              "<Figure size 432x288 with 1 Axes>"
            ],
            "image/png": "[encoded data removed]"
          },
          "metadata": {
            "needs_background": "light"
          }
        }
      ]
    },
    {
      "cell_type": "code",
      "source": [
        "# Moving Average Convergence Diveresion\n",
        "#When fast is lower than the slow then we undervalue the stock price\n",
        "data[\"MACD\"], data[\"MACD_sig\"], macdhist = ta.MACD(data['Close'], fastperiod=12, slowperiod=26, signalperiod=9)"
      ],
      "metadata": {
        "id": "YE-6k08qmqOt"
      },
      "execution_count": null,
      "outputs": []
    },
    {
      "cell_type": "code",
      "source": [
        "#The standard deviation of the closing price\n",
        "data[\"Bupperband\"], data[\"Bmiddleband\"], data[\"Blowerband\"] = ta.BBANDS(data[\"Close\"], timeperiod=5, nbdevup=2, nbdevdn=2, matype=0)"
      ],
      "metadata": {
        "id": "0pcTBNulnvP2"
      },
      "execution_count": null,
      "outputs": []
    },
    {
      "cell_type": "code",
      "source": [
        "plt.figure()\n",
        "plt.plot(data[\"Bupperband\"][400:500],'r')\n",
        "plt.plot(data[\"Bmiddleband\"][400:500],'b')\n",
        "plt.plot(data[\"Blowerband\"][400:500],'g')\n",
        "plt.legend(['Upperband', 'Middleband', 'Lowerband'])"
      ],
      "metadata": {
        "colab": {
          "base_uri": "https://localhost:8080/",
          "height": 282
        },
        "id": "pR1rHyu7yzmj",
        "outputId": "12b2c932-8751-4107-9174-b6ea935f1ea3"
      },
      "execution_count": null,
      "outputs": [
        {
          "output_type": "execute_result",
          "data": {
            "text/plain": [
              "<matplotlib.legend.Legend at 0x7f1f8c964290>"
            ]
          },
          "metadata": {},
          "execution_count": 20
        },
        {
          "output_type": "display_data",
          "data": {
            "text/plain": [
              "<Figure size 432x288 with 1 Axes>"
            ],
            "image/png": "[encoded data removed]"
          },
          "metadata": {
            "needs_background": "light"
          }
        }
      ]
    },
    {
      "cell_type": "code",
      "source": [
        "# Exponential Moving Average\n",
        "data[\"EMA\"] = ta.EMA(data[\"Close\"], timeperiod=14)"
      ],
      "metadata": {
        "id": "bOMrsKU9pFCc"
      },
      "execution_count": null,
      "outputs": []
    },
    {
      "cell_type": "code",
      "source": [
        "#Simple Moving Average\n",
        "data[\"SMA\"] = ta.SMA(data[\"Close\"], timeperiod=14)"
      ],
      "metadata": {
        "id": "PnEpwcL1pLsZ"
      },
      "execution_count": null,
      "outputs": []
    },
    {
      "cell_type": "code",
      "source": [
        "plt.figure()\n",
        "plt.plot(data[\"EMA\"][50:200],'r')\n",
        "plt.plot(data[\"SMA\"][50:200],'b')\n",
        "plt.legend(['Exponential Moving Average', 'Simple Moving Average'])"
      ],
      "metadata": {
        "colab": {
          "base_uri": "https://localhost:8080/",
          "height": 282
        },
        "id": "JPS53cwhzgGB",
        "outputId": "d6620432-3159-4277-b4a0-03cf4459d025"
      },
      "execution_count": null,
      "outputs": [
        {
          "output_type": "execute_result",
          "data": {
            "text/plain": [
              "<matplotlib.legend.Legend at 0x7f1f8b8d3c50>"
            ]
          },
          "metadata": {},
          "execution_count": 23
        },
        {
          "output_type": "display_data",
          "data": {
            "text/plain": [
              "<Figure size 432x288 with 1 Axes>"
            ],
            "image/png": "[encoded data removed]"
          },
          "metadata": {
            "needs_background": "light"
          }
        }
      ]
    },
    {
      "cell_type": "code",
      "source": [
        "#William R\n",
        "data[\"WILLR\"] = ta.WILLR(data['High'],data['Low'], data[\"Close\"], timeperiod=14)"
      ],
      "metadata": {
        "id": "tfSPGkaipTBq"
      },
      "execution_count": null,
      "outputs": []
    },
    {
      "cell_type": "code",
      "source": [
        "plt.figure()\n",
        "plt.plot(data[\"WILLR\"][50:200],'r')\n",
        "plt.legend(['William R'])"
      ],
      "metadata": {
        "colab": {
          "base_uri": "https://localhost:8080/",
          "height": 282
        },
        "id": "KcFEtCjQz7G9",
        "outputId": "893ea67a-65a0-4d2f-bafa-2114b800e1fe"
      },
      "execution_count": null,
      "outputs": [
        {
          "output_type": "execute_result",
          "data": {
            "text/plain": [
              "<matplotlib.legend.Legend at 0x7f1f8b0add50>"
            ]
          },
          "metadata": {},
          "execution_count": 25
        },
        {
          "output_type": "display_data",
          "data": {
            "text/plain": [
              "<Figure size 432x288 with 1 Axes>"
            ],
            "image/png": "[encoded data removed]"
          },
          "metadata": {
            "needs_background": "light"
          }
        }
      ]
    },
    {
      "cell_type": "code",
      "source": [
        "data.isnull().sum()"
      ],
      "metadata": {
        "colab": {
          "base_uri": "https://localhost:8080/"
        },
        "id": "ipUbXNOVqTn-",
        "outputId": "2bb103d4-6e14-48e6-8327-dacfcda7bcbb"
      },
      "execution_count": null,
      "outputs": [
        {
          "output_type": "execute_result",
          "data": {
            "text/plain": [
              "Datetime        0\n",
              "Open            0\n",
              "High            0\n",
              "Low             0\n",
              "Close           0\n",
              "Adj Close       0\n",
              "Volume          0\n",
              "ret1           55\n",
              "ret2            0\n",
              "ret3            0\n",
              "ret4            0\n",
              "ret5            0\n",
              "ret6            0\n",
              "ret7            0\n",
              "ret8            0\n",
              "ret9            0\n",
              "ret10           0\n",
              "RSI            14\n",
              "MACD           33\n",
              "MACD_sig       33\n",
              "Bupperband      4\n",
              "Bmiddleband     4\n",
              "Blowerband      4\n",
              "EMA            13\n",
              "SMA            13\n",
              "WILLR          13\n",
              "dtype: int64"
            ]
          },
          "metadata": {},
          "execution_count": 26
        }
      ]
    },
    {
      "cell_type": "code",
      "source": [
        "data=data.dropna()"
      ],
      "metadata": {
        "id": "OLl0NjsVqbsG"
      },
      "execution_count": null,
      "outputs": []
    },
    {
      "cell_type": "code",
      "source": [
        "data"
      ],
      "metadata": {
        "colab": {
          "base_uri": "https://localhost:8080/",
          "height": 835
        },
        "id": "NsO-ydffTO-1",
        "outputId": "61bddbe1-28fe-44b4-c937-eeb9363e24c6"
      },
      "execution_count": null,
      "outputs": [
        {
          "output_type": "execute_result",
          "data": {
            "text/plain": [
              "                Datetime        Open        High         Low       Close  \\\n",
              "40   2022-10-03 10:10:00  140.270004  140.274994  139.919998  139.970001   \n",
              "41   2022-10-03 10:11:00  139.957993  140.125595  139.904999  140.100098   \n",
              "42   2022-10-03 10:12:00  140.101303  140.160004  139.850006  139.931595   \n",
              "43   2022-10-03 10:13:00  139.940002  140.070007  139.910004  139.955002   \n",
              "50   2022-10-03 10:20:00  140.289993  140.490005  140.288895  140.414993   \n",
              "...                  ...         ...         ...         ...         ...   \n",
              "5444 2022-10-21 15:55:00  147.520004  147.520004  147.375000  147.414993   \n",
              "5445 2022-10-21 15:56:00  147.419998  147.449997  147.350006  147.414993   \n",
              "5446 2022-10-21 15:57:00  147.414993  147.419998  147.339996  147.380005   \n",
              "5447 2022-10-21 15:58:00  147.384995  147.389999  147.240005  147.380005   \n",
              "5448 2022-10-21 15:59:00  147.389999  147.539993  147.259995  147.270004   \n",
              "\n",
              "       Adj Close   Volume      ret1      ret2      ret3  ...     ret10  \\\n",
              "40    139.970001   365923  0.001225  0.000378 -0.000685  ...   0.00007   \n",
              "41    140.100098   291808  0.004251 -0.000654  0.001165  ...  0.000376   \n",
              "42    139.931595   280158  0.004611  0.000276  0.000103  ...  0.001387   \n",
              "43    139.955002   203846  0.005656  0.000758  0.000034  ...   0.00111   \n",
              "50    140.414993   287568  0.001223 -0.000621  0.000137  ...  0.000347   \n",
              "...          ...      ...       ...       ...       ...  ...       ...   \n",
              "5444  147.414993   427451  0.000377 -0.000521  0.001126  ... -0.001765   \n",
              "5445  147.414993   340241  0.000722 -0.001241  0.003458  ... -0.002071   \n",
              "5446  147.380005   389550  0.001127   0.00061  0.003408  ... -0.001256   \n",
              "5447  147.380005   528982  0.001954  0.000884  0.003105  ... -0.001562   \n",
              "5448  147.270004  1163150  0.001617 -0.000058  0.004164  ... -0.002126   \n",
              "\n",
              "            RSI      MACD  MACD_sig  Bupperband Bmiddleband  Blowerband  \\\n",
              "40    62.081383  0.376212  0.361334  140.403489  140.149142  139.894796   \n",
              "41    64.347192  0.363367  0.361740  140.393802  140.165121  139.936441   \n",
              "42    59.396583  0.335721  0.356536  140.379515  140.103439  139.827364   \n",
              "43    59.858586  0.312102  0.347649  140.298713  140.045340  139.791967   \n",
              "50    67.854120  0.261784  0.279270  140.462585  140.219000  139.975415   \n",
              "...         ...       ...       ...         ...         ...         ...   \n",
              "5444  45.167999  0.008136  0.036374  147.612738  147.498999  147.385260   \n",
              "5445  45.167999 -0.000646  0.028970  147.620525  147.490997  147.361470   \n",
              "5446  43.414734 -0.010310  0.021114  147.574083  147.451999  147.329915   \n",
              "5447  43.414734 -0.017764  0.013339  147.524879  147.422000  147.319121   \n",
              "5448  38.031964 -0.032176  0.004236  147.478689  147.372000  147.265311   \n",
              "\n",
              "             EMA         SMA      WILLR  \n",
              "40    139.852350  139.837395 -32.302449  \n",
              "41    139.885383  139.911423 -23.581470  \n",
              "42    139.891545  139.960466 -35.271638  \n",
              "43    139.900006  139.999394 -45.539859  \n",
              "50    140.082938  140.125514 -11.720669  \n",
              "...          ...         ...        ...  \n",
              "5444  147.522841  147.530220 -83.752956  \n",
              "5445  147.508461  147.520576 -83.752956  \n",
              "5446  147.491334  147.496649 -90.241905  \n",
              "5447  147.476490  147.478435 -71.428127  \n",
              "5448  147.448958  147.455578 -93.877678  \n",
              "\n",
              "[5388 rows x 26 columns]"
            ],
            "text/html": [
              "\n",
              "  <div id=\"df-b3c1cfdf-2b1a-437e-8521-149e3b06e0bd\">\n",
              "    <div class=\"colab-df-container\">\n",
              "      <div>\n",
              "<style scoped>\n",
              "    .dataframe tbody tr th:only-of-type {\n",
              "        vertical-align: middle;\n",
              "    }\n",
              "\n",
              "    .dataframe tbody tr th {\n",
              "        vertical-align: top;\n",
              "    }\n",
              "\n",
              "    .dataframe thead th {\n",
              "        text-align: right;\n",
              "    }\n",
              "</style>\n",
              "<table border=\"1\" class=\"dataframe\">\n",
              "  <thead>\n",
              "    <tr style=\"text-align: right;\">\n",
              "      <th></th>\n",
              "      <th>Datetime</th>\n",
              "      <th>Open</th>\n",
              "      <th>High</th>\n",
              "      <th>Low</th>\n",
              "      <th>Close</th>\n",
              "      <th>Adj Close</th>\n",
              "      <th>Volume</th>\n",
              "      <th>ret1</th>\n",
              "      <th>ret2</th>\n",
              "      <th>ret3</th>\n",
              "      <th>...</th>\n",
              "      <th>ret10</th>\n",
              "      <th>RSI</th>\n",
              "      <th>MACD</th>\n",
              "      <th>MACD_sig</th>\n",
              "      <th>Bupperband</th>\n",
              "      <th>Bmiddleband</th>\n",
              "      <th>Blowerband</th>\n",
              "      <th>EMA</th>\n",
              "      <th>SMA</th>\n",
              "      <th>WILLR</th>\n",
              "    </tr>\n",
              "  </thead>\n",
              "  <tbody>\n",
              "    <tr>\n",
              "      <th>40</th>\n",
              "      <td>2022-10-03 10:10:00</td>\n",
              "      <td>140.270004</td>\n",
              "      <td>140.274994</td>\n",
              "      <td>139.919998</td>\n",
              "      <td>139.970001</td>\n",
              "      <td>139.970001</td>\n",
              "      <td>365923</td>\n",
              "      <td>0.001225</td>\n",
              "      <td>0.000378</td>\n",
              "      <td>-0.000685</td>\n",
              "      <td>...</td>\n",
              "      <td>0.00007</td>\n",
              "      <td>62.081383</td>\n",
              "      <td>0.376212</td>\n",
              "      <td>0.361334</td>\n",
              "      <td>140.403489</td>\n",
              "      <td>140.149142</td>\n",
              "      <td>139.894796</td>\n",
              "      <td>139.852350</td>\n",
              "      <td>139.837395</td>\n",
              "      <td>-32.302449</td>\n",
              "    </tr>\n",
              "    <tr>\n",
              "      <th>41</th>\n",
              "      <td>2022-10-03 10:11:00</td>\n",
              "      <td>139.957993</td>\n",
              "      <td>140.125595</td>\n",
              "      <td>139.904999</td>\n",
              "      <td>140.100098</td>\n",
              "      <td>140.100098</td>\n",
              "      <td>291808</td>\n",
              "      <td>0.004251</td>\n",
              "      <td>-0.000654</td>\n",
              "      <td>0.001165</td>\n",
              "      <td>...</td>\n",
              "      <td>0.000376</td>\n",
              "      <td>64.347192</td>\n",
              "      <td>0.363367</td>\n",
              "      <td>0.361740</td>\n",
              "      <td>140.393802</td>\n",
              "      <td>140.165121</td>\n",
              "      <td>139.936441</td>\n",
              "      <td>139.885383</td>\n",
              "      <td>139.911423</td>\n",
              "      <td>-23.581470</td>\n",
              "    </tr>\n",
              "    <tr>\n",
              "      <th>42</th>\n",
              "      <td>2022-10-03 10:12:00</td>\n",
              "      <td>140.101303</td>\n",
              "      <td>140.160004</td>\n",
              "      <td>139.850006</td>\n",
              "      <td>139.931595</td>\n",
              "      <td>139.931595</td>\n",
              "      <td>280158</td>\n",
              "      <td>0.004611</td>\n",
              "      <td>0.000276</td>\n",
              "      <td>0.000103</td>\n",
              "      <td>...</td>\n",
              "      <td>0.001387</td>\n",
              "      <td>59.396583</td>\n",
              "      <td>0.335721</td>\n",
              "      <td>0.356536</td>\n",
              "      <td>140.379515</td>\n",
              "      <td>140.103439</td>\n",
              "      <td>139.827364</td>\n",
              "      <td>139.891545</td>\n",
              "      <td>139.960466</td>\n",
              "      <td>-35.271638</td>\n",
              "    </tr>\n",
              "    <tr>\n",
              "      <th>43</th>\n",
              "      <td>2022-10-03 10:13:00</td>\n",
              "      <td>139.940002</td>\n",
              "      <td>140.070007</td>\n",
              "      <td>139.910004</td>\n",
              "      <td>139.955002</td>\n",
              "      <td>139.955002</td>\n",
              "      <td>203846</td>\n",
              "      <td>0.005656</td>\n",
              "      <td>0.000758</td>\n",
              "      <td>0.000034</td>\n",
              "      <td>...</td>\n",
              "      <td>0.00111</td>\n",
              "      <td>59.858586</td>\n",
              "      <td>0.312102</td>\n",
              "      <td>0.347649</td>\n",
              "      <td>140.298713</td>\n",
              "      <td>140.045340</td>\n",
              "      <td>139.791967</td>\n",
              "      <td>139.900006</td>\n",
              "      <td>139.999394</td>\n",
              "      <td>-45.539859</td>\n",
              "    </tr>\n",
              "    <tr>\n",
              "      <th>50</th>\n",
              "      <td>2022-10-03 10:20:00</td>\n",
              "      <td>140.289993</td>\n",
              "      <td>140.490005</td>\n",
              "      <td>140.288895</td>\n",
              "      <td>140.414993</td>\n",
              "      <td>140.414993</td>\n",
              "      <td>287568</td>\n",
              "      <td>0.001223</td>\n",
              "      <td>-0.000621</td>\n",
              "      <td>0.000137</td>\n",
              "      <td>...</td>\n",
              "      <td>0.000347</td>\n",
              "      <td>67.854120</td>\n",
              "      <td>0.261784</td>\n",
              "      <td>0.279270</td>\n",
              "      <td>140.462585</td>\n",
              "      <td>140.219000</td>\n",
              "      <td>139.975415</td>\n",
              "      <td>140.082938</td>\n",
              "      <td>140.125514</td>\n",
              "      <td>-11.720669</td>\n",
              "    </tr>\n",
              "    <tr>\n",
              "      <th>...</th>\n",
              "      <td>...</td>\n",
              "      <td>...</td>\n",
              "      <td>...</td>\n",
              "      <td>...</td>\n",
              "      <td>...</td>\n",
              "      <td>...</td>\n",
              "      <td>...</td>\n",
              "      <td>...</td>\n",
              "      <td>...</td>\n",
              "      <td>...</td>\n",
              "      <td>...</td>\n",
              "      <td>...</td>\n",
              "      <td>...</td>\n",
              "      <td>...</td>\n",
              "      <td>...</td>\n",
              "      <td>...</td>\n",
              "      <td>...</td>\n",
              "      <td>...</td>\n",
              "      <td>...</td>\n",
              "      <td>...</td>\n",
              "      <td>...</td>\n",
              "    </tr>\n",
              "    <tr>\n",
              "      <th>5444</th>\n",
              "      <td>2022-10-21 15:55:00</td>\n",
              "      <td>147.520004</td>\n",
              "      <td>147.520004</td>\n",
              "      <td>147.375000</td>\n",
              "      <td>147.414993</td>\n",
              "      <td>147.414993</td>\n",
              "      <td>427451</td>\n",
              "      <td>0.000377</td>\n",
              "      <td>-0.000521</td>\n",
              "      <td>0.001126</td>\n",
              "      <td>...</td>\n",
              "      <td>-0.001765</td>\n",
              "      <td>45.167999</td>\n",
              "      <td>0.008136</td>\n",
              "      <td>0.036374</td>\n",
              "      <td>147.612738</td>\n",
              "      <td>147.498999</td>\n",
              "      <td>147.385260</td>\n",
              "      <td>147.522841</td>\n",
              "      <td>147.530220</td>\n",
              "      <td>-83.752956</td>\n",
              "    </tr>\n",
              "    <tr>\n",
              "      <th>5445</th>\n",
              "      <td>2022-10-21 15:56:00</td>\n",
              "      <td>147.419998</td>\n",
              "      <td>147.449997</td>\n",
              "      <td>147.350006</td>\n",
              "      <td>147.414993</td>\n",
              "      <td>147.414993</td>\n",
              "      <td>340241</td>\n",
              "      <td>0.000722</td>\n",
              "      <td>-0.001241</td>\n",
              "      <td>0.003458</td>\n",
              "      <td>...</td>\n",
              "      <td>-0.002071</td>\n",
              "      <td>45.167999</td>\n",
              "      <td>-0.000646</td>\n",
              "      <td>0.028970</td>\n",
              "      <td>147.620525</td>\n",
              "      <td>147.490997</td>\n",
              "      <td>147.361470</td>\n",
              "      <td>147.508461</td>\n",
              "      <td>147.520576</td>\n",
              "      <td>-83.752956</td>\n",
              "    </tr>\n",
              "    <tr>\n",
              "      <th>5446</th>\n",
              "      <td>2022-10-21 15:57:00</td>\n",
              "      <td>147.414993</td>\n",
              "      <td>147.419998</td>\n",
              "      <td>147.339996</td>\n",
              "      <td>147.380005</td>\n",
              "      <td>147.380005</td>\n",
              "      <td>389550</td>\n",
              "      <td>0.001127</td>\n",
              "      <td>0.00061</td>\n",
              "      <td>0.003408</td>\n",
              "      <td>...</td>\n",
              "      <td>-0.001256</td>\n",
              "      <td>43.414734</td>\n",
              "      <td>-0.010310</td>\n",
              "      <td>0.021114</td>\n",
              "      <td>147.574083</td>\n",
              "      <td>147.451999</td>\n",
              "      <td>147.329915</td>\n",
              "      <td>147.491334</td>\n",
              "      <td>147.496649</td>\n",
              "      <td>-90.241905</td>\n",
              "    </tr>\n",
              "    <tr>\n",
              "      <th>5447</th>\n",
              "      <td>2022-10-21 15:58:00</td>\n",
              "      <td>147.384995</td>\n",
              "      <td>147.389999</td>\n",
              "      <td>147.240005</td>\n",
              "      <td>147.380005</td>\n",
              "      <td>147.380005</td>\n",
              "      <td>528982</td>\n",
              "      <td>0.001954</td>\n",
              "      <td>0.000884</td>\n",
              "      <td>0.003105</td>\n",
              "      <td>...</td>\n",
              "      <td>-0.001562</td>\n",
              "      <td>43.414734</td>\n",
              "      <td>-0.017764</td>\n",
              "      <td>0.013339</td>\n",
              "      <td>147.524879</td>\n",
              "      <td>147.422000</td>\n",
              "      <td>147.319121</td>\n",
              "      <td>147.476490</td>\n",
              "      <td>147.478435</td>\n",
              "      <td>-71.428127</td>\n",
              "    </tr>\n",
              "    <tr>\n",
              "      <th>5448</th>\n",
              "      <td>2022-10-21 15:59:00</td>\n",
              "      <td>147.389999</td>\n",
              "      <td>147.539993</td>\n",
              "      <td>147.259995</td>\n",
              "      <td>147.270004</td>\n",
              "      <td>147.270004</td>\n",
              "      <td>1163150</td>\n",
              "      <td>0.001617</td>\n",
              "      <td>-0.000058</td>\n",
              "      <td>0.004164</td>\n",
              "      <td>...</td>\n",
              "      <td>-0.002126</td>\n",
              "      <td>38.031964</td>\n",
              "      <td>-0.032176</td>\n",
              "      <td>0.004236</td>\n",
              "      <td>147.478689</td>\n",
              "      <td>147.372000</td>\n",
              "      <td>147.265311</td>\n",
              "      <td>147.448958</td>\n",
              "      <td>147.455578</td>\n",
              "      <td>-93.877678</td>\n",
              "    </tr>\n",
              "  </tbody>\n",
              "</table>\n",
              "<p>5388 rows × 26 columns</p>\n",
              "</div>\n",
              "      <button class=\"colab-df-convert\" onclick=\"convertToInteractive('df-b3c1cfdf-2b1a-437e-8521-149e3b06e0bd')\"\n",
              "              title=\"Convert this dataframe to an interactive table.\"\n",
              "              style=\"display:none;\">\n",
              "        \n",
              "  <svg xmlns=\"http://www.w3.org/2000/svg\" height=\"24px\"viewBox=\"0 0 24 24\"\n",
              "       width=\"24px\">\n",
              "    <path d=\"M0 0h24v24H0V0z\" fill=\"none\"/>\n",
              "    <path d=\"M18.56 5.44l.94 2.06.94-2.06 2.06-.94-2.06-.94-.94-2.06-.94 2.06-2.06.94zm-11 1L8.5 8.5l.94-2.06 2.06-.94-2.06-.94L8.5 2.5l-.94 2.06-2.06.94zm10 10l.94 2.06.94-2.06 2.06-.94-2.06-.94-.94-2.06-.94 2.06-2.06.94z\"/><path d=\"M17.41 7.96l-1.37-1.37c-.4-.4-.92-.59-1.43-.59-.52 0-1.04.2-1.43.59L10.3 9.45l-7.72 7.72c-.78.78-.78 2.05 0 2.83L4 21.41c.39.39.9.59 1.41.59.51 0 1.02-.2 1.41-.59l7.78-7.78 2.81-2.81c.8-.78.8-2.07 0-2.86zM5.41 20L4 18.59l7.72-7.72 1.47 1.35L5.41 20z\"/>\n",
              "  </svg>\n",
              "      </button>\n",
              "      \n",
              "  <style>\n",
              "    .colab-df-container {\n",
              "      display:flex;\n",
              "      flex-wrap:wrap;\n",
              "      gap: 12px;\n",
              "    }\n",
              "\n",
              "    .colab-df-convert {\n",
              "      background-color: #E8F0FE;\n",
              "      border: none;\n",
              "      border-radius: 50%;\n",
              "      cursor: pointer;\n",
              "      display: none;\n",
              "      fill: #1967D2;\n",
              "      height: 32px;\n",
              "      padding: 0 0 0 0;\n",
              "      width: 32px;\n",
              "    }\n",
              "\n",
              "    .colab-df-convert:hover {\n",
              "      background-color: #E2EBFA;\n",
              "      box-shadow: 0px 1px 2px rgba(60, 64, 67, 0.3), 0px 1px 3px 1px rgba(60, 64, 67, 0.15);\n",
              "      fill: #174EA6;\n",
              "    }\n",
              "\n",
              "    [theme=dark] .colab-df-convert {\n",
              "      background-color: #3B4455;\n",
              "      fill: #D2E3FC;\n",
              "    }\n",
              "\n",
              "    [theme=dark] .colab-df-convert:hover {\n",
              "      background-color: #434B5C;\n",
              "      box-shadow: 0px 1px 3px 1px rgba(0, 0, 0, 0.15);\n",
              "      filter: drop-shadow(0px 1px 2px rgba(0, 0, 0, 0.3));\n",
              "      fill: #FFFFFF;\n",
              "    }\n",
              "  </style>\n",
              "\n",
              "      <script>\n",
              "        const buttonEl =\n",
              "          document.querySelector('#df-b3c1cfdf-2b1a-437e-8521-149e3b06e0bd button.colab-df-convert');\n",
              "        buttonEl.style.display =\n",
              "          google.colab.kernel.accessAllowed ? 'block' : 'none';\n",
              "\n",
              "        async function convertToInteractive(key) {\n",
              "          const element = document.querySelector('#df-b3c1cfdf-2b1a-437e-8521-149e3b06e0bd');\n",
              "          const dataTable =\n",
              "            await google.colab.kernel.invokeFunction('convertToInteractive',\n",
              "                                                     [key], {});\n",
              "          if (!dataTable) return;\n",
              "\n",
              "          const docLinkHtml = 'Like what you see? Visit the ' +\n",
              "            '<a target=\"_blank\" href=https://colab.research.google.com/notebooks/data_table.ipynb>data table notebook</a>'\n",
              "            + ' to learn more about interactive tables.';\n",
              "          element.innerHTML = '';\n",
              "          dataTable['output_type'] = 'display_data';\n",
              "          await google.colab.output.renderOutput(dataTable, element);\n",
              "          const docLink = document.createElement('div');\n",
              "          docLink.innerHTML = docLinkHtml;\n",
              "          element.appendChild(docLink);\n",
              "        }\n",
              "      </script>\n",
              "    </div>\n",
              "  </div>\n",
              "  "
            ]
          },
          "metadata": {},
          "execution_count": 28
        }
      ]
    },
    {
      "cell_type": "markdown",
      "source": [
        "## Methodology"
      ],
      "metadata": {
        "id": "CMWtiHyt5lSO"
      }
    },
    {
      "cell_type": "code",
      "source": [
        "some=list()\n",
        "for i in range(1,11):\n",
        "    some.append(data[\"ret\"+str(i)])\n",
        "sum=np.sum(some,axis=0)"
      ],
      "metadata": {
        "id": "qExfqvVOqA6o"
      },
      "execution_count": null,
      "outputs": []
    },
    {
      "cell_type": "code",
      "source": [
        "#Positive return => 1\n",
        "#Negative return => 0\n",
        "y=pd.DataFrame(np.where(sum>0,1,0))"
      ],
      "metadata": {
        "id": "0V2S2Jlbs52h"
      },
      "execution_count": null,
      "outputs": []
    },
    {
      "cell_type": "code",
      "source": [
        "data"
      ],
      "metadata": {
        "colab": {
          "base_uri": "https://localhost:8080/",
          "height": 835
        },
        "id": "9xx3_rj-tXA6",
        "outputId": "8742751d-7c88-4339-94bb-0b23d1e8fcd3"
      },
      "execution_count": null,
      "outputs": [
        {
          "output_type": "execute_result",
          "data": {
            "text/plain": [
              "                Datetime        Open        High         Low       Close  \\\n",
              "40   2022-10-03 10:10:00  140.270004  140.274994  139.919998  139.970001   \n",
              "41   2022-10-03 10:11:00  139.957993  140.125595  139.904999  140.100098   \n",
              "42   2022-10-03 10:12:00  140.101303  140.160004  139.850006  139.931595   \n",
              "43   2022-10-03 10:13:00  139.940002  140.070007  139.910004  139.955002   \n",
              "50   2022-10-03 10:20:00  140.289993  140.490005  140.288895  140.414993   \n",
              "...                  ...         ...         ...         ...         ...   \n",
              "5444 2022-10-21 15:55:00  147.520004  147.520004  147.375000  147.414993   \n",
              "5445 2022-10-21 15:56:00  147.419998  147.449997  147.350006  147.414993   \n",
              "5446 2022-10-21 15:57:00  147.414993  147.419998  147.339996  147.380005   \n",
              "5447 2022-10-21 15:58:00  147.384995  147.389999  147.240005  147.380005   \n",
              "5448 2022-10-21 15:59:00  147.389999  147.539993  147.259995  147.270004   \n",
              "\n",
              "       Adj Close   Volume      ret1      ret2      ret3  ...     ret10  \\\n",
              "40    139.970001   365923  0.001225  0.000378 -0.000685  ...   0.00007   \n",
              "41    140.100098   291808  0.004251 -0.000654  0.001165  ...  0.000376   \n",
              "42    139.931595   280158  0.004611  0.000276  0.000103  ...  0.001387   \n",
              "43    139.955002   203846  0.005656  0.000758  0.000034  ...   0.00111   \n",
              "50    140.414993   287568  0.001223 -0.000621  0.000137  ...  0.000347   \n",
              "...          ...      ...       ...       ...       ...  ...       ...   \n",
              "5444  147.414993   427451  0.000377 -0.000521  0.001126  ... -0.001765   \n",
              "5445  147.414993   340241  0.000722 -0.001241  0.003458  ... -0.002071   \n",
              "5446  147.380005   389550  0.001127   0.00061  0.003408  ... -0.001256   \n",
              "5447  147.380005   528982  0.001954  0.000884  0.003105  ... -0.001562   \n",
              "5448  147.270004  1163150  0.001617 -0.000058  0.004164  ... -0.002126   \n",
              "\n",
              "            RSI      MACD  MACD_sig  Bupperband Bmiddleband  Blowerband  \\\n",
              "40    62.081383  0.376212  0.361334  140.403489  140.149142  139.894796   \n",
              "41    64.347192  0.363367  0.361740  140.393802  140.165121  139.936441   \n",
              "42    59.396583  0.335721  0.356536  140.379515  140.103439  139.827364   \n",
              "43    59.858586  0.312102  0.347649  140.298713  140.045340  139.791967   \n",
              "50    67.854120  0.261784  0.279270  140.462585  140.219000  139.975415   \n",
              "...         ...       ...       ...         ...         ...         ...   \n",
              "5444  45.167999  0.008136  0.036374  147.612738  147.498999  147.385260   \n",
              "5445  45.167999 -0.000646  0.028970  147.620525  147.490997  147.361470   \n",
              "5446  43.414734 -0.010310  0.021114  147.574083  147.451999  147.329915   \n",
              "5447  43.414734 -0.017764  0.013339  147.524879  147.422000  147.319121   \n",
              "5448  38.031964 -0.032176  0.004236  147.478689  147.372000  147.265311   \n",
              "\n",
              "             EMA         SMA      WILLR  \n",
              "40    139.852350  139.837395 -32.302449  \n",
              "41    139.885383  139.911423 -23.581470  \n",
              "42    139.891545  139.960466 -35.271638  \n",
              "43    139.900006  139.999394 -45.539859  \n",
              "50    140.082938  140.125514 -11.720669  \n",
              "...          ...         ...        ...  \n",
              "5444  147.522841  147.530220 -83.752956  \n",
              "5445  147.508461  147.520576 -83.752956  \n",
              "5446  147.491334  147.496649 -90.241905  \n",
              "5447  147.476490  147.478435 -71.428127  \n",
              "5448  147.448958  147.455578 -93.877678  \n",
              "\n",
              "[5388 rows x 26 columns]"
            ],
            "text/html": [
              "\n",
              "  <div id=\"df-c4b9f88b-935e-46df-b147-80c74f461d8e\">\n",
              "    <div class=\"colab-df-container\">\n",
              "      <div>\n",
              "<style scoped>\n",
              "    .dataframe tbody tr th:only-of-type {\n",
              "        vertical-align: middle;\n",
              "    }\n",
              "\n",
              "    .dataframe tbody tr th {\n",
              "        vertical-align: top;\n",
              "    }\n",
              "\n",
              "    .dataframe thead th {\n",
              "        text-align: right;\n",
              "    }\n",
              "</style>\n",
              "<table border=\"1\" class=\"dataframe\">\n",
              "  <thead>\n",
              "    <tr style=\"text-align: right;\">\n",
              "      <th></th>\n",
              "      <th>Datetime</th>\n",
              "      <th>Open</th>\n",
              "      <th>High</th>\n",
              "      <th>Low</th>\n",
              "      <th>Close</th>\n",
              "      <th>Adj Close</th>\n",
              "      <th>Volume</th>\n",
              "      <th>ret1</th>\n",
              "      <th>ret2</th>\n",
              "      <th>ret3</th>\n",
              "      <th>...</th>\n",
              "      <th>ret10</th>\n",
              "      <th>RSI</th>\n",
              "      <th>MACD</th>\n",
              "      <th>MACD_sig</th>\n",
              "      <th>Bupperband</th>\n",
              "      <th>Bmiddleband</th>\n",
              "      <th>Blowerband</th>\n",
              "      <th>EMA</th>\n",
              "      <th>SMA</th>\n",
              "      <th>WILLR</th>\n",
              "    </tr>\n",
              "  </thead>\n",
              "  <tbody>\n",
              "    <tr>\n",
              "      <th>40</th>\n",
              "      <td>2022-10-03 10:10:00</td>\n",
              "      <td>140.270004</td>\n",
              "      <td>140.274994</td>\n",
              "      <td>139.919998</td>\n",
              "      <td>139.970001</td>\n",
              "      <td>139.970001</td>\n",
              "      <td>365923</td>\n",
              "      <td>0.001225</td>\n",
              "      <td>0.000378</td>\n",
              "      <td>-0.000685</td>\n",
              "      <td>...</td>\n",
              "      <td>0.00007</td>\n",
              "      <td>62.081383</td>\n",
              "      <td>0.376212</td>\n",
              "      <td>0.361334</td>\n",
              "      <td>140.403489</td>\n",
              "      <td>140.149142</td>\n",
              "      <td>139.894796</td>\n",
              "      <td>139.852350</td>\n",
              "      <td>139.837395</td>\n",
              "      <td>-32.302449</td>\n",
              "    </tr>\n",
              "    <tr>\n",
              "      <th>41</th>\n",
              "      <td>2022-10-03 10:11:00</td>\n",
              "      <td>139.957993</td>\n",
              "      <td>140.125595</td>\n",
              "      <td>139.904999</td>\n",
              "      <td>140.100098</td>\n",
              "      <td>140.100098</td>\n",
              "      <td>291808</td>\n",
              "      <td>0.004251</td>\n",
              "      <td>-0.000654</td>\n",
              "      <td>0.001165</td>\n",
              "      <td>...</td>\n",
              "      <td>0.000376</td>\n",
              "      <td>64.347192</td>\n",
              "      <td>0.363367</td>\n",
              "      <td>0.361740</td>\n",
              "      <td>140.393802</td>\n",
              "      <td>140.165121</td>\n",
              "      <td>139.936441</td>\n",
              "      <td>139.885383</td>\n",
              "      <td>139.911423</td>\n",
              "      <td>-23.581470</td>\n",
              "    </tr>\n",
              "    <tr>\n",
              "      <th>42</th>\n",
              "      <td>2022-10-03 10:12:00</td>\n",
              "      <td>140.101303</td>\n",
              "      <td>140.160004</td>\n",
              "      <td>139.850006</td>\n",
              "      <td>139.931595</td>\n",
              "      <td>139.931595</td>\n",
              "      <td>280158</td>\n",
              "      <td>0.004611</td>\n",
              "      <td>0.000276</td>\n",
              "      <td>0.000103</td>\n",
              "      <td>...</td>\n",
              "      <td>0.001387</td>\n",
              "      <td>59.396583</td>\n",
              "      <td>0.335721</td>\n",
              "      <td>0.356536</td>\n",
              "      <td>140.379515</td>\n",
              "      <td>140.103439</td>\n",
              "      <td>139.827364</td>\n",
              "      <td>139.891545</td>\n",
              "      <td>139.960466</td>\n",
              "      <td>-35.271638</td>\n",
              "    </tr>\n",
              "    <tr>\n",
              "      <th>43</th>\n",
              "      <td>2022-10-03 10:13:00</td>\n",
              "      <td>139.940002</td>\n",
              "      <td>140.070007</td>\n",
              "      <td>139.910004</td>\n",
              "      <td>139.955002</td>\n",
              "      <td>139.955002</td>\n",
              "      <td>203846</td>\n",
              "      <td>0.005656</td>\n",
              "      <td>0.000758</td>\n",
              "      <td>0.000034</td>\n",
              "      <td>...</td>\n",
              "      <td>0.00111</td>\n",
              "      <td>59.858586</td>\n",
              "      <td>0.312102</td>\n",
              "      <td>0.347649</td>\n",
              "      <td>140.298713</td>\n",
              "      <td>140.045340</td>\n",
              "      <td>139.791967</td>\n",
              "      <td>139.900006</td>\n",
              "      <td>139.999394</td>\n",
              "      <td>-45.539859</td>\n",
              "    </tr>\n",
              "    <tr>\n",
              "      <th>50</th>\n",
              "      <td>2022-10-03 10:20:00</td>\n",
              "      <td>140.289993</td>\n",
              "      <td>140.490005</td>\n",
              "      <td>140.288895</td>\n",
              "      <td>140.414993</td>\n",
              "      <td>140.414993</td>\n",
              "      <td>287568</td>\n",
              "      <td>0.001223</td>\n",
              "      <td>-0.000621</td>\n",
              "      <td>0.000137</td>\n",
              "      <td>...</td>\n",
              "      <td>0.000347</td>\n",
              "      <td>67.854120</td>\n",
              "      <td>0.261784</td>\n",
              "      <td>0.279270</td>\n",
              "      <td>140.462585</td>\n",
              "      <td>140.219000</td>\n",
              "      <td>139.975415</td>\n",
              "      <td>140.082938</td>\n",
              "      <td>140.125514</td>\n",
              "      <td>-11.720669</td>\n",
              "    </tr>\n",
              "    <tr>\n",
              "      <th>...</th>\n",
              "      <td>...</td>\n",
              "      <td>...</td>\n",
              "      <td>...</td>\n",
              "      <td>...</td>\n",
              "      <td>...</td>\n",
              "      <td>...</td>\n",
              "      <td>...</td>\n",
              "      <td>...</td>\n",
              "      <td>...</td>\n",
              "      <td>...</td>\n",
              "      <td>...</td>\n",
              "      <td>...</td>\n",
              "      <td>...</td>\n",
              "      <td>...</td>\n",
              "      <td>...</td>\n",
              "      <td>...</td>\n",
              "      <td>...</td>\n",
              "      <td>...</td>\n",
              "      <td>...</td>\n",
              "      <td>...</td>\n",
              "      <td>...</td>\n",
              "    </tr>\n",
              "    <tr>\n",
              "      <th>5444</th>\n",
              "      <td>2022-10-21 15:55:00</td>\n",
              "      <td>147.520004</td>\n",
              "      <td>147.520004</td>\n",
              "      <td>147.375000</td>\n",
              "      <td>147.414993</td>\n",
              "      <td>147.414993</td>\n",
              "      <td>427451</td>\n",
              "      <td>0.000377</td>\n",
              "      <td>-0.000521</td>\n",
              "      <td>0.001126</td>\n",
              "      <td>...</td>\n",
              "      <td>-0.001765</td>\n",
              "      <td>45.167999</td>\n",
              "      <td>0.008136</td>\n",
              "      <td>0.036374</td>\n",
              "      <td>147.612738</td>\n",
              "      <td>147.498999</td>\n",
              "      <td>147.385260</td>\n",
              "      <td>147.522841</td>\n",
              "      <td>147.530220</td>\n",
              "      <td>-83.752956</td>\n",
              "    </tr>\n",
              "    <tr>\n",
              "      <th>5445</th>\n",
              "      <td>2022-10-21 15:56:00</td>\n",
              "      <td>147.419998</td>\n",
              "      <td>147.449997</td>\n",
              "      <td>147.350006</td>\n",
              "      <td>147.414993</td>\n",
              "      <td>147.414993</td>\n",
              "      <td>340241</td>\n",
              "      <td>0.000722</td>\n",
              "      <td>-0.001241</td>\n",
              "      <td>0.003458</td>\n",
              "      <td>...</td>\n",
              "      <td>-0.002071</td>\n",
              "      <td>45.167999</td>\n",
              "      <td>-0.000646</td>\n",
              "      <td>0.028970</td>\n",
              "      <td>147.620525</td>\n",
              "      <td>147.490997</td>\n",
              "      <td>147.361470</td>\n",
              "      <td>147.508461</td>\n",
              "      <td>147.520576</td>\n",
              "      <td>-83.752956</td>\n",
              "    </tr>\n",
              "    <tr>\n",
              "      <th>5446</th>\n",
              "      <td>2022-10-21 15:57:00</td>\n",
              "      <td>147.414993</td>\n",
              "      <td>147.419998</td>\n",
              "      <td>147.339996</td>\n",
              "      <td>147.380005</td>\n",
              "      <td>147.380005</td>\n",
              "      <td>389550</td>\n",
              "      <td>0.001127</td>\n",
              "      <td>0.00061</td>\n",
              "      <td>0.003408</td>\n",
              "      <td>...</td>\n",
              "      <td>-0.001256</td>\n",
              "      <td>43.414734</td>\n",
              "      <td>-0.010310</td>\n",
              "      <td>0.021114</td>\n",
              "      <td>147.574083</td>\n",
              "      <td>147.451999</td>\n",
              "      <td>147.329915</td>\n",
              "      <td>147.491334</td>\n",
              "      <td>147.496649</td>\n",
              "      <td>-90.241905</td>\n",
              "    </tr>\n",
              "    <tr>\n",
              "      <th>5447</th>\n",
              "      <td>2022-10-21 15:58:00</td>\n",
              "      <td>147.384995</td>\n",
              "      <td>147.389999</td>\n",
              "      <td>147.240005</td>\n",
              "      <td>147.380005</td>\n",
              "      <td>147.380005</td>\n",
              "      <td>528982</td>\n",
              "      <td>0.001954</td>\n",
              "      <td>0.000884</td>\n",
              "      <td>0.003105</td>\n",
              "      <td>...</td>\n",
              "      <td>-0.001562</td>\n",
              "      <td>43.414734</td>\n",
              "      <td>-0.017764</td>\n",
              "      <td>0.013339</td>\n",
              "      <td>147.524879</td>\n",
              "      <td>147.422000</td>\n",
              "      <td>147.319121</td>\n",
              "      <td>147.476490</td>\n",
              "      <td>147.478435</td>\n",
              "      <td>-71.428127</td>\n",
              "    </tr>\n",
              "    <tr>\n",
              "      <th>5448</th>\n",
              "      <td>2022-10-21 15:59:00</td>\n",
              "      <td>147.389999</td>\n",
              "      <td>147.539993</td>\n",
              "      <td>147.259995</td>\n",
              "      <td>147.270004</td>\n",
              "      <td>147.270004</td>\n",
              "      <td>1163150</td>\n",
              "      <td>0.001617</td>\n",
              "      <td>-0.000058</td>\n",
              "      <td>0.004164</td>\n",
              "      <td>...</td>\n",
              "      <td>-0.002126</td>\n",
              "      <td>38.031964</td>\n",
              "      <td>-0.032176</td>\n",
              "      <td>0.004236</td>\n",
              "      <td>147.478689</td>\n",
              "      <td>147.372000</td>\n",
              "      <td>147.265311</td>\n",
              "      <td>147.448958</td>\n",
              "      <td>147.455578</td>\n",
              "      <td>-93.877678</td>\n",
              "    </tr>\n",
              "  </tbody>\n",
              "</table>\n",
              "<p>5388 rows × 26 columns</p>\n",
              "</div>\n",
              "      <button class=\"colab-df-convert\" onclick=\"convertToInteractive('df-c4b9f88b-935e-46df-b147-80c74f461d8e')\"\n",
              "              title=\"Convert this dataframe to an interactive table.\"\n",
              "              style=\"display:none;\">\n",
              "        \n",
              "  <svg xmlns=\"http://www.w3.org/2000/svg\" height=\"24px\"viewBox=\"0 0 24 24\"\n",
              "       width=\"24px\">\n",
              "    <path d=\"M0 0h24v24H0V0z\" fill=\"none\"/>\n",
              "    <path d=\"M18.56 5.44l.94 2.06.94-2.06 2.06-.94-2.06-.94-.94-2.06-.94 2.06-2.06.94zm-11 1L8.5 8.5l.94-2.06 2.06-.94-2.06-.94L8.5 2.5l-.94 2.06-2.06.94zm10 10l.94 2.06.94-2.06 2.06-.94-2.06-.94-.94-2.06-.94 2.06-2.06.94z\"/><path d=\"M17.41 7.96l-1.37-1.37c-.4-.4-.92-.59-1.43-.59-.52 0-1.04.2-1.43.59L10.3 9.45l-7.72 7.72c-.78.78-.78 2.05 0 2.83L4 21.41c.39.39.9.59 1.41.59.51 0 1.02-.2 1.41-.59l7.78-7.78 2.81-2.81c.8-.78.8-2.07 0-2.86zM5.41 20L4 18.59l7.72-7.72 1.47 1.35L5.41 20z\"/>\n",
              "  </svg>\n",
              "      </button>\n",
              "      \n",
              "  <style>\n",
              "    .colab-df-container {\n",
              "      display:flex;\n",
              "      flex-wrap:wrap;\n",
              "      gap: 12px;\n",
              "    }\n",
              "\n",
              "    .colab-df-convert {\n",
              "      background-color: #E8F0FE;\n",
              "      border: none;\n",
              "      border-radius: 50%;\n",
              "      cursor: pointer;\n",
              "      display: none;\n",
              "      fill: #1967D2;\n",
              "      height: 32px;\n",
              "      padding: 0 0 0 0;\n",
              "      width: 32px;\n",
              "    }\n",
              "\n",
              "    .colab-df-convert:hover {\n",
              "      background-color: #E2EBFA;\n",
              "      box-shadow: 0px 1px 2px rgba(60, 64, 67, 0.3), 0px 1px 3px 1px rgba(60, 64, 67, 0.15);\n",
              "      fill: #174EA6;\n",
              "    }\n",
              "\n",
              "    [theme=dark] .colab-df-convert {\n",
              "      background-color: #3B4455;\n",
              "      fill: #D2E3FC;\n",
              "    }\n",
              "\n",
              "    [theme=dark] .colab-df-convert:hover {\n",
              "      background-color: #434B5C;\n",
              "      box-shadow: 0px 1px 3px 1px rgba(0, 0, 0, 0.15);\n",
              "      filter: drop-shadow(0px 1px 2px rgba(0, 0, 0, 0.3));\n",
              "      fill: #FFFFFF;\n",
              "    }\n",
              "  </style>\n",
              "\n",
              "      <script>\n",
              "        const buttonEl =\n",
              "          document.querySelector('#df-c4b9f88b-935e-46df-b147-80c74f461d8e button.colab-df-convert');\n",
              "        buttonEl.style.display =\n",
              "          google.colab.kernel.accessAllowed ? 'block' : 'none';\n",
              "\n",
              "        async function convertToInteractive(key) {\n",
              "          const element = document.querySelector('#df-c4b9f88b-935e-46df-b147-80c74f461d8e');\n",
              "          const dataTable =\n",
              "            await google.colab.kernel.invokeFunction('convertToInteractive',\n",
              "                                                     [key], {});\n",
              "          if (!dataTable) return;\n",
              "\n",
              "          const docLinkHtml = 'Like what you see? Visit the ' +\n",
              "            '<a target=\"_blank\" href=https://colab.research.google.com/notebooks/data_table.ipynb>data table notebook</a>'\n",
              "            + ' to learn more about interactive tables.';\n",
              "          element.innerHTML = '';\n",
              "          dataTable['output_type'] = 'display_data';\n",
              "          await google.colab.output.renderOutput(dataTable, element);\n",
              "          const docLink = document.createElement('div');\n",
              "          docLink.innerHTML = docLinkHtml;\n",
              "          element.appendChild(docLink);\n",
              "        }\n",
              "      </script>\n",
              "    </div>\n",
              "  </div>\n",
              "  "
            ]
          },
          "metadata": {},
          "execution_count": 31
        }
      ]
    },
    {
      "cell_type": "code",
      "source": [],
      "metadata": {
        "id": "-ddBIIFx0cse"
      },
      "execution_count": null,
      "outputs": []
    },
    {
      "cell_type": "code",
      "source": [
        "data=data.iloc[:,1:]"
      ],
      "metadata": {
        "id": "sCNJf52_1PBs"
      },
      "execution_count": null,
      "outputs": []
    },
    {
      "cell_type": "code",
      "source": [
        "data1=data"
      ],
      "metadata": {
        "id": "zxSRKpFXF0R3"
      },
      "execution_count": null,
      "outputs": []
    },
    {
      "cell_type": "code",
      "source": [
        "from sklearn.preprocessing import MinMaxScaler\n",
        "scaler=MinMaxScaler()\n",
        "data=scaler.fit_transform(data)"
      ],
      "metadata": {
        "id": "eYmgrHkCAk9b"
      },
      "execution_count": null,
      "outputs": []
    },
    {
      "cell_type": "code",
      "source": [
        "data=np.array(data)\n",
        "window=30\n",
        "X=[]\n",
        "for i in range(window,data.shape[0]):\n",
        "    # X.append(tf.convert_to_tensor(data[i-window:i,4:]))\n",
        "    X.append(data[i-window:i,:])\n",
        "X=np.array(X)"
      ],
      "metadata": {
        "id": "e8cfPyBeyG5T"
      },
      "execution_count": null,
      "outputs": []
    },
    {
      "cell_type": "code",
      "source": [
        "X = np.asarray(X).astype(np.float32)"
      ],
      "metadata": {
        "id": "d6d6jCp5-4Xy"
      },
      "execution_count": null,
      "outputs": []
    },
    {
      "cell_type": "code",
      "source": [
        "y = np.asarray(y).astype(np.float32)"
      ],
      "metadata": {
        "id": "S06RpPtt-6KN"
      },
      "execution_count": null,
      "outputs": []
    },
    {
      "cell_type": "markdown",
      "source": [
        "## Model"
      ],
      "metadata": {
        "id": "AOlMPGQQ6Sne"
      }
    },
    {
      "cell_type": "code",
      "source": [
        "from sklearn.model_selection import train_test_split\n",
        "\n",
        "X_processing, X_test, y_processing, y_test  = train_test_split(X,\n",
        "                                                               y[window:],\n",
        "                                                               shuffle=False,\n",
        "                                                               test_size=0.1)\n",
        "X_train, X_valid, y_train, y_valid          = train_test_split(X_processing,\n",
        "                                                               y_processing,\n",
        "                                                               shuffle=False,\n",
        "                                                               test_size=0.2)\n",
        "print(X_train.shape, X_valid.shape, X_test.shape, y_test.shape)"
      ],
      "metadata": {
        "colab": {
          "base_uri": "https://localhost:8080/"
        },
        "id": "Zeqomq-otwYL",
        "outputId": "45547b3e-2750-458f-f3b4-9ad724a1afa0"
      },
      "execution_count": null,
      "outputs": [
        {
          "output_type": "stream",
          "name": "stdout",
          "text": [
            "(3857, 30, 25) (965, 30, 25) (536, 30, 25) (536, 1)\n"
          ]
        }
      ]
    },
    {
      "cell_type": "code",
      "source": [
        "X_train[0].shape"
      ],
      "metadata": {
        "colab": {
          "base_uri": "https://localhost:8080/"
        },
        "id": "jZDwQXn4_YlP",
        "outputId": "4602d4a0-0286-44d4-ead1-eecedfad4d02"
      },
      "execution_count": null,
      "outputs": [
        {
          "output_type": "execute_result",
          "data": {
            "text/plain": [
              "(30, 25)"
            ]
          },
          "metadata": {},
          "execution_count": 39
        }
      ]
    },
    {
      "cell_type": "code",
      "source": [
        "import matplotlib.pyplot as plt\n",
        "import tensorflow as tf\n",
        "from tensorflow.keras.models import Sequential\n",
        "from tensorflow.keras.layers import LSTM, Dense\n",
        "\n",
        "tf.keras.backend.clear_session()\n",
        "\n",
        "\n",
        "model = Sequential([\n",
        "                    LSTM(units=500, batch_input_shape=(None, window,25),return_sequences=True),\n",
        "                    LSTM(units=500),\n",
        "                    Dense(500),\n",
        "                    Dense(1,activation=\"sigmoid\")\n",
        "                    ])\n",
        "model.compile(loss=\"binary_crossentropy\", optimizer=tf.keras.optimizers.Adam(learning_rate=1e-4),metrics=[\"binary_crossentropy\"]) #tf.keras.optimizers.SGD(lr=1e-5, momentum=0.9)\n",
        "model.summary()\n",
        "history = model.fit(x=X_train,y=y_train, epochs=50, validation_data=(X_valid,y_valid))\n",
        "\n"
      ],
      "metadata": {
        "colab": {
          "base_uri": "https://localhost:8080/"
        },
        "id": "_9bX1afIyO4K",
        "outputId": "4e731132-5dd5-405d-dee1-d65822cb92a2"
      },
      "execution_count": null,
      "outputs": [
        {
          "output_type": "stream",
          "name": "stdout",
          "text": [
            "Model: \"sequential\"\n",
            "_________________________________________________________________\n",
            " Layer (type)                Output Shape              Param #   \n",
            "=================================================================\n",
            " lstm (LSTM)                 (None, 30, 500)           1052000   \n",
            "                                                                 \n",
            " lstm_1 (LSTM)               (None, 500)               2002000   \n",
            "                                                                 \n",
            " dense (Dense)               (None, 500)               250500    \n",
            "                                                                 \n",
            " dense_1 (Dense)             (None, 1)                 501       \n",
            "                                                                 \n",
            "=================================================================\n",
            "Total params: 3,305,001\n",
            "Trainable params: 3,305,001\n",
            "Non-trainable params: 0\n",
            "_________________________________________________________________\n",
            "Epoch 1/50\n",
            "121/121 [==============================] - 11s 25ms/step - loss: 0.6675 - binary_crossentropy: 0.6675 - val_loss: 0.6732 - val_binary_crossentropy: 0.6732\n",
            "Epoch 2/50\n",
            "121/121 [==============================] - 2s 17ms/step - loss: 0.6328 - binary_crossentropy: 0.6328 - val_loss: 0.5871 - val_binary_crossentropy: 0.5871\n",
            "Epoch 3/50\n",
            "121/121 [==============================] - 2s 20ms/step - loss: 0.6119 - binary_crossentropy: 0.6119 - val_loss: 0.5754 - val_binary_crossentropy: 0.5754\n",
            "Epoch 4/50\n",
            "121/121 [==============================] - 2s 19ms/step - loss: 0.6030 - binary_crossentropy: 0.6030 - val_loss: 0.5504 - val_binary_crossentropy: 0.5504\n",
            "Epoch 5/50\n",
            "121/121 [==============================] - 2s 17ms/step - loss: 0.5840 - binary_crossentropy: 0.5840 - val_loss: 0.5518 - val_binary_crossentropy: 0.5518\n",
            "Epoch 6/50\n",
            "121/121 [==============================] - 2s 18ms/step - loss: 0.5713 - binary_crossentropy: 0.5713 - val_loss: 0.5584 - val_binary_crossentropy: 0.5584\n",
            "Epoch 7/50\n",
            "121/121 [==============================] - 2s 17ms/step - loss: 0.5572 - binary_crossentropy: 0.5572 - val_loss: 0.5715 - val_binary_crossentropy: 0.5715\n",
            "Epoch 8/50\n",
            "121/121 [==============================] - 2s 16ms/step - loss: 0.5489 - binary_crossentropy: 0.5489 - val_loss: 0.5618 - val_binary_crossentropy: 0.5618\n",
            "Epoch 9/50\n",
            "121/121 [==============================] - 2s 17ms/step - loss: 0.5327 - binary_crossentropy: 0.5327 - val_loss: 0.5234 - val_binary_crossentropy: 0.5234\n",
            "Epoch 10/50\n",
            "121/121 [==============================] - 2s 15ms/step - loss: 0.5517 - binary_crossentropy: 0.5517 - val_loss: 0.5489 - val_binary_crossentropy: 0.5489\n",
            "Epoch 11/50\n",
            "121/121 [==============================] - 2s 13ms/step - loss: 0.5377 - binary_crossentropy: 0.5377 - val_loss: 0.5116 - val_binary_crossentropy: 0.5116\n",
            "Epoch 12/50\n",
            "121/121 [==============================] - 2s 13ms/step - loss: 0.5200 - binary_crossentropy: 0.5200 - val_loss: 0.5632 - val_binary_crossentropy: 0.5632\n",
            "Epoch 13/50\n",
            "121/121 [==============================] - 2s 13ms/step - loss: 0.5186 - binary_crossentropy: 0.5186 - val_loss: 0.5481 - val_binary_crossentropy: 0.5481\n",
            "Epoch 14/50\n",
            "121/121 [==============================] - 2s 13ms/step - loss: 0.5162 - binary_crossentropy: 0.5162 - val_loss: 0.4956 - val_binary_crossentropy: 0.4956\n",
            "Epoch 15/50\n",
            "121/121 [==============================] - 2s 13ms/step - loss: 0.5095 - binary_crossentropy: 0.5095 - val_loss: 0.4982 - val_binary_crossentropy: 0.4982\n",
            "Epoch 16/50\n",
            "121/121 [==============================] - 2s 14ms/step - loss: 0.5105 - binary_crossentropy: 0.5105 - val_loss: 0.6460 - val_binary_crossentropy: 0.6460\n",
            "Epoch 17/50\n",
            "121/121 [==============================] - 2s 13ms/step - loss: 0.4940 - binary_crossentropy: 0.4940 - val_loss: 0.5188 - val_binary_crossentropy: 0.5188\n",
            "Epoch 18/50\n",
            "121/121 [==============================] - 2s 13ms/step - loss: 0.4855 - binary_crossentropy: 0.4855 - val_loss: 0.4734 - val_binary_crossentropy: 0.4734\n",
            "Epoch 19/50\n",
            "121/121 [==============================] - 2s 13ms/step - loss: 0.4815 - binary_crossentropy: 0.4815 - val_loss: 0.5188 - val_binary_crossentropy: 0.5188\n",
            "Epoch 20/50\n",
            "121/121 [==============================] - 2s 13ms/step - loss: 0.4894 - binary_crossentropy: 0.4894 - val_loss: 0.4411 - val_binary_crossentropy: 0.4411\n",
            "Epoch 21/50\n",
            "121/121 [==============================] - 2s 13ms/step - loss: 0.4615 - binary_crossentropy: 0.4615 - val_loss: 0.4801 - val_binary_crossentropy: 0.4801\n",
            "Epoch 22/50\n",
            "121/121 [==============================] - 2s 13ms/step - loss: 0.4496 - binary_crossentropy: 0.4496 - val_loss: 0.4975 - val_binary_crossentropy: 0.4975\n",
            "Epoch 23/50\n",
            "121/121 [==============================] - 2s 13ms/step - loss: 0.4440 - binary_crossentropy: 0.4440 - val_loss: 0.6198 - val_binary_crossentropy: 0.6198\n",
            "Epoch 24/50\n",
            "121/121 [==============================] - 2s 13ms/step - loss: 0.4305 - binary_crossentropy: 0.4305 - val_loss: 0.4972 - val_binary_crossentropy: 0.4972\n",
            "Epoch 25/50\n",
            "121/121 [==============================] - 2s 13ms/step - loss: 0.4175 - binary_crossentropy: 0.4175 - val_loss: 0.5183 - val_binary_crossentropy: 0.5183\n",
            "Epoch 26/50\n",
            "121/121 [==============================] - 2s 13ms/step - loss: 0.3986 - binary_crossentropy: 0.3986 - val_loss: 0.4365 - val_binary_crossentropy: 0.4365\n",
            "Epoch 27/50\n",
            "121/121 [==============================] - 2s 13ms/step - loss: 0.3929 - binary_crossentropy: 0.3929 - val_loss: 0.5794 - val_binary_crossentropy: 0.5794\n",
            "Epoch 28/50\n",
            "121/121 [==============================] - 2s 13ms/step - loss: 0.4001 - binary_crossentropy: 0.4001 - val_loss: 0.4437 - val_binary_crossentropy: 0.4437\n",
            "Epoch 29/50\n",
            "121/121 [==============================] - 2s 15ms/step - loss: 0.3860 - binary_crossentropy: 0.3860 - val_loss: 0.4975 - val_binary_crossentropy: 0.4975\n",
            "Epoch 30/50\n",
            "121/121 [==============================] - 2s 14ms/step - loss: 0.3795 - binary_crossentropy: 0.3795 - val_loss: 0.4975 - val_binary_crossentropy: 0.4975\n",
            "Epoch 31/50\n",
            "121/121 [==============================] - 2s 13ms/step - loss: 0.3913 - binary_crossentropy: 0.3913 - val_loss: 0.4272 - val_binary_crossentropy: 0.4272\n",
            "Epoch 32/50\n",
            "121/121 [==============================] - 2s 13ms/step - loss: 0.3727 - binary_crossentropy: 0.3727 - val_loss: 0.4491 - val_binary_crossentropy: 0.4491\n",
            "Epoch 33/50\n",
            "121/121 [==============================] - 2s 13ms/step - loss: 0.3826 - binary_crossentropy: 0.3826 - val_loss: 0.3964 - val_binary_crossentropy: 0.3964\n",
            "Epoch 34/50\n",
            "121/121 [==============================] - 2s 13ms/step - loss: 0.3625 - binary_crossentropy: 0.3625 - val_loss: 0.4400 - val_binary_crossentropy: 0.4400\n",
            "Epoch 35/50\n",
            "121/121 [==============================] - 2s 14ms/step - loss: 0.3670 - binary_crossentropy: 0.3670 - val_loss: 0.4100 - val_binary_crossentropy: 0.4100\n",
            "Epoch 36/50\n",
            "121/121 [==============================] - 2s 14ms/step - loss: 0.3617 - binary_crossentropy: 0.3617 - val_loss: 0.4382 - val_binary_crossentropy: 0.4382\n",
            "Epoch 37/50\n",
            "121/121 [==============================] - 2s 13ms/step - loss: 0.3625 - binary_crossentropy: 0.3625 - val_loss: 0.4305 - val_binary_crossentropy: 0.4305\n",
            "Epoch 38/50\n",
            "121/121 [==============================] - 2s 13ms/step - loss: 0.3606 - binary_crossentropy: 0.3606 - val_loss: 0.4166 - val_binary_crossentropy: 0.4166\n",
            "Epoch 39/50\n",
            "121/121 [==============================] - 2s 13ms/step - loss: 0.3531 - binary_crossentropy: 0.3531 - val_loss: 0.4356 - val_binary_crossentropy: 0.4356\n",
            "Epoch 40/50\n",
            "121/121 [==============================] - 2s 13ms/step - loss: 0.3555 - binary_crossentropy: 0.3555 - val_loss: 0.5974 - val_binary_crossentropy: 0.5974\n",
            "Epoch 41/50\n",
            "121/121 [==============================] - 2s 13ms/step - loss: 0.3492 - binary_crossentropy: 0.3492 - val_loss: 0.4376 - val_binary_crossentropy: 0.4376\n",
            "Epoch 42/50\n",
            "121/121 [==============================] - 2s 13ms/step - loss: 0.3558 - binary_crossentropy: 0.3558 - val_loss: 0.5684 - val_binary_crossentropy: 0.5684\n",
            "Epoch 43/50\n",
            "121/121 [==============================] - 2s 13ms/step - loss: 0.3627 - binary_crossentropy: 0.3627 - val_loss: 0.4414 - val_binary_crossentropy: 0.4414\n",
            "Epoch 44/50\n",
            "121/121 [==============================] - 2s 13ms/step - loss: 0.3471 - binary_crossentropy: 0.3471 - val_loss: 0.4792 - val_binary_crossentropy: 0.4792\n",
            "Epoch 45/50\n",
            "121/121 [==============================] - 2s 13ms/step - loss: 0.3541 - binary_crossentropy: 0.3541 - val_loss: 0.5469 - val_binary_crossentropy: 0.5469\n",
            "Epoch 46/50\n",
            "121/121 [==============================] - 2s 13ms/step - loss: 0.3557 - binary_crossentropy: 0.3557 - val_loss: 0.5162 - val_binary_crossentropy: 0.5162\n",
            "Epoch 47/50\n",
            "121/121 [==============================] - 2s 14ms/step - loss: 0.3362 - binary_crossentropy: 0.3362 - val_loss: 0.4905 - val_binary_crossentropy: 0.4905\n",
            "Epoch 48/50\n",
            "121/121 [==============================] - 2s 14ms/step - loss: 0.3355 - binary_crossentropy: 0.3355 - val_loss: 0.4522 - val_binary_crossentropy: 0.4522\n",
            "Epoch 49/50\n",
            "121/121 [==============================] - 2s 13ms/step - loss: 0.3437 - binary_crossentropy: 0.3437 - val_loss: 0.4791 - val_binary_crossentropy: 0.4791\n",
            "Epoch 50/50\n",
            "121/121 [==============================] - 2s 15ms/step - loss: 0.3308 - binary_crossentropy: 0.3308 - val_loss: 0.4919 - val_binary_crossentropy: 0.4919\n"
          ]
        }
      ]
    },
    {
      "cell_type": "markdown",
      "source": [
        "## Results"
      ],
      "metadata": {
        "id": "U--d0Zow6Nzt"
      }
    },
    {
      "cell_type": "code",
      "source": [
        "from sklearn.metrics import confusion_matrix,ConfusionMatrixDisplay\n",
        "ypred=model.predict(X_train)\n",
        "ypred=np.where(ypred>0.5 ,1,0)\n",
        "confusion_matrix=confusion_matrix(y_train,ypred)\n",
        "cm_display = ConfusionMatrixDisplay(confusion_matrix = confusion_matrix, display_labels = [False, True])\n",
        "cm_display.plot()\n",
        "plt.show()"
      ],
      "metadata": {
        "colab": {
          "base_uri": "https://localhost:8080/",
          "height": 296
        },
        "id": "fubYebJlVeMy",
        "outputId": "74da320d-d08b-4f30-fe32-7aaec22f6e8c"
      },
      "execution_count": null,
      "outputs": [
        {
          "output_type": "stream",
          "name": "stdout",
          "text": [
            "121/121 [==============================] - 2s 5ms/step\n"
          ]
        },
        {
          "output_type": "display_data",
          "data": {
            "text/plain": [
              "<Figure size 432x288 with 2 Axes>"
            ],
            "image/png": "[encoded data removed]"
          },
          "metadata": {
            "needs_background": "light"
          }
        }
      ]
    },
    {
      "cell_type": "code",
      "source": [
        "from sklearn.metrics import confusion_matrix,ConfusionMatrixDisplay\n",
        "ypred=model.predict(X_test)\n",
        "ypred=np.where(ypred>0.5 ,1,0)\n",
        "confusion_matrix=confusion_matrix(y_test,ypred)\n",
        "cm_display = ConfusionMatrixDisplay(confusion_matrix = confusion_matrix, display_labels = [False, True])\n",
        "cm_display.plot()\n",
        "plt.show()"
      ],
      "metadata": {
        "colab": {
          "base_uri": "https://localhost:8080/",
          "height": 296
        },
        "id": "8Z2WVT3xULhp",
        "outputId": "803095a2-08e0-4921-9f80-3d68f6cb2c80"
      },
      "execution_count": null,
      "outputs": [
        {
          "output_type": "stream",
          "name": "stdout",
          "text": [
            "17/17 [==============================] - 0s 4ms/step\n"
          ]
        },
        {
          "output_type": "display_data",
          "data": {
            "text/plain": [
              "<Figure size 432x288 with 2 Axes>"
            ],
            "image/png": "[encoded data removed]"
          },
          "metadata": {
            "needs_background": "light"
          }
        }
      ]
    },
    {
      "cell_type": "markdown",
      "source": [
        "## Simulations"
      ],
      "metadata": {
        "id": "EC4BG5UA6Gcp"
      }
    },
    {
      "cell_type": "code",
      "source": [
        "data1=data1.reset_index()"
      ],
      "metadata": {
        "id": "Rs0eGwixFpc4"
      },
      "execution_count": null,
      "outputs": []
    },
    {
      "cell_type": "code",
      "source": [
        "strat=[]\n",
        "some=list()\n",
        "for i in range(3,11):\n",
        "    some.append(data1[\"ret\"+str(i)])\n",
        "sum=np.sum(some,axis=0)\n",
        "strat=(np.where(sum>0,1,0))"
      ],
      "metadata": {
        "id": "Skz_-Rj0_N1w"
      },
      "execution_count": null,
      "outputs": []
    },
    {
      "cell_type": "code",
      "source": [
        "budget=50000\n",
        "plot=[]\n",
        "plot.append(budget)\n",
        "for i in range(X_train.shape[0]):\n",
        "    if strat[i]==1:\n",
        "        budget-=data1[\"Close\"][i]\n",
        "    else:\n",
        "        budget+=data1[\"Close\"][i]\n",
        "    plot.append(budget)"
      ],
      "metadata": {
        "id": "OtwMQG3vBVNP"
      },
      "execution_count": null,
      "outputs": []
    },
    {
      "cell_type": "code",
      "source": [
        "plt.figure(figsize=(10,10))\n",
        "plt.plot(plot)"
      ],
      "metadata": {
        "colab": {
          "base_uri": "https://localhost:8080/",
          "height": 609
        },
        "id": "3QODYNU1HYjA",
        "outputId": "fb56dcb8-8a08-4148-c086-27bd594b9085"
      },
      "execution_count": null,
      "outputs": [
        {
          "output_type": "execute_result",
          "data": {
            "text/plain": [
              "[<matplotlib.lines.Line2D at 0x7f1eb8f04ed0>]"
            ]
          },
          "metadata": {},
          "execution_count": 85
        },
        {
          "output_type": "display_data",
          "data": {
            "text/plain": [
              "<Figure size 720x720 with 1 Axes>"
            ],
            "image/png": "[encoded data removed]"
          },
          "metadata": {
            "needs_background": "light"
          }
        }
      ]
    },
    {
      "cell_type": "code",
      "source": [
        "ypred=model.predict(X_train)\n",
        "ypred=np.where(ypred>0.5 ,1,0)\n",
        "budget=50000\n",
        "plot=[]\n",
        "plot.append(budget)\n",
        "for i in range(X_train.shape[0]):\n",
        "    if strat[i]==1:\n",
        "        budget-=data1[\"Close\"][i]\n",
        "    else:\n",
        "        budget+=data1[\"Close\"][i]\n",
        "    plot.append(budget)\n",
        "budget=50000\n",
        "plot1=[]\n",
        "plot1.append(budget)\n",
        "for i in range(X_train.shape[0]):\n",
        "    if ypred[i]==1:\n",
        "        budget-=data1[\"Close\"][i]\n",
        "    else:\n",
        "        budget+=data1[\"Close\"][i]\n",
        "    plot1.append(budget)\n",
        "plt.figure(figsize=(10,10))\n",
        "plt.plot(plot1,'red')\n",
        "plt.plot(plot)"
      ],
      "metadata": {
        "colab": {
          "base_uri": "https://localhost:8080/",
          "height": 627
        },
        "id": "s-tmWq7-IIeF",
        "outputId": "ea3d0438-176a-4c67-c60d-90acda69df3b"
      },
      "execution_count": null,
      "outputs": [
        {
          "output_type": "stream",
          "name": "stdout",
          "text": [
            "121/121 [==============================] - 1s 8ms/step\n"
          ]
        },
        {
          "output_type": "execute_result",
          "data": {
            "text/plain": [
              "[<matplotlib.lines.Line2D at 0x7f1eb8e9fa90>]"
            ]
          },
          "metadata": {},
          "execution_count": 86
        },
        {
          "output_type": "display_data",
          "data": {
            "text/plain": [
              "<Figure size 720x720 with 1 Axes>"
            ],
            "image/png": "[encoded data removed]"
          },
          "metadata": {
            "needs_background": "light"
          }
        }
      ]
    },
    {
      "cell_type": "code",
      "source": [
        "ypred=model.predict(X_valid)\n",
        "ypred=np.where(ypred>0.5 ,1,0)\n",
        "budget=50000\n",
        "plot=[]\n",
        "plot.append(budget)\n",
        "for i in range(data1.shape[0]-X_valid.shape[0],data1.shape[0]):\n",
        "    if strat[i]==1:\n",
        "        budget-=data1[\"Close\"][i]\n",
        "    else:\n",
        "        budget+=data1[\"Close\"][i]\n",
        "    plot.append(budget)\n",
        "budget=50000\n",
        "plot1=[]\n",
        "plot1.append(budget)\n",
        "for i in range(data1.shape[0]-X_valid.shape[0],data1.shape[0]):\n",
        "    if ypred[i-data1.shape[0]+X_valid.shape[0]]==1:\n",
        "        budget-=data1[\"Close\"][i]\n",
        "    else:\n",
        "        budget+=data1[\"Close\"][i]\n",
        "    plot1.append(budget)\n",
        "plt.figure(figsize=(10,10))\n",
        "plt.plot(plot1,'red')\n",
        "plt.plot(plot)"
      ],
      "metadata": {
        "colab": {
          "base_uri": "https://localhost:8080/",
          "height": 627
        },
        "id": "akC3AnduWUNH",
        "outputId": "fcf94f48-015a-4777-ccc4-08c7cc462327"
      },
      "execution_count": null,
      "outputs": [
        {
          "output_type": "stream",
          "name": "stdout",
          "text": [
            "31/31 [==============================] - 0s 7ms/step\n"
          ]
        },
        {
          "output_type": "execute_result",
          "data": {
            "text/plain": [
              "[<matplotlib.lines.Line2D at 0x7f1eba5785d0>]"
            ]
          },
          "metadata": {},
          "execution_count": 87
        },
        {
          "output_type": "display_data",
          "data": {
            "text/plain": [
              "<Figure size 720x720 with 1 Axes>"
            ],
            "image/png": "[encoded data removed]"
          },
          "metadata": {
            "needs_background": "light"
          }
        }
      ]
    },
    {
      "cell_type": "code",
      "source": [
        "ypred=model.predict(X_test)\n",
        "ypred=np.where(ypred>0.5 ,1,0)\n",
        "budget=50000\n",
        "plot=[]\n",
        "plot.append(budget)\n",
        "for i in range(data1.shape[0]-X_test.shape[0],data1.shape[0]):\n",
        "    if strat[i]==1:\n",
        "        budget-=data1[\"Close\"][i]\n",
        "    else:\n",
        "        budget+=data1[\"Close\"][i]\n",
        "    plot.append(budget)\n",
        "budget=50000\n",
        "plot1=[]\n",
        "plot1.append(budget)\n",
        "for i in range(data1.shape[0]-X_test.shape[0],data1.shape[0]):\n",
        "    if ypred[i-data1.shape[0]+X_test.shape[0]]==1:\n",
        "        budget-=data1[\"Close\"][i]\n",
        "    else:\n",
        "        budget+=data1[\"Close\"][i]\n",
        "    plot1.append(budget)\n",
        "plt.figure(figsize=(10,10))\n",
        "plt.plot(plot1,'red')\n",
        "plt.plot(plot)"
      ],
      "metadata": {
        "colab": {
          "base_uri": "https://localhost:8080/",
          "height": 630
        },
        "id": "4tqRghkVL9DW",
        "outputId": "cf2d73ff-1ee5-4f6c-ebae-05693bea76cb"
      },
      "execution_count": null,
      "outputs": [
        {
          "output_type": "stream",
          "name": "stdout",
          "text": [
            "17/17 [==============================] - 0s 7ms/step\n"
          ]
        },
        {
          "output_type": "execute_result",
          "data": {
            "text/plain": [
              "[<matplotlib.lines.Line2D at 0x7f1eba5d9c10>]"
            ]
          },
          "metadata": {},
          "execution_count": 88
        },
        {
          "output_type": "display_data",
          "data": {
            "text/plain": [
              "<Figure size 720x720 with 1 Axes>"
            ],
            "image/png": "[encoded data removed]"
          },
          "metadata": {
            "needs_background": "light"
          }
        }
      ]
    },
    {
      "cell_type": "markdown",
      "source": [
        "## Conclusions\n",
        "The market is very voltile while some may say it is random it in real essense is not really so. Here we switched from using the standard regression model to a classification model. The advantage of using such a method is that this allows you a lot of freedom in pointing the model towards a specific direction. In other words when we generate the signal we draw the models attention to specific details. We can say that the performance of this model is very much dependent on the method we use to generate the signal. The method we used to generate the signal was very elementry but the results were not that bad. As we can see on simulation on the training data keeping the budget as 50000 we are able to make a aproximate profit of 10000 dollars in the span of aproximatly 16 days. The valdiation data does see general loss our predictions still do better. On the testing data while we do see a loss in our strategy our predictions do much better and end up getting a profit.\n"
      ],
      "metadata": {
        "id": "Fn4pPf3l6aUE"
      }
    }
  ]
}